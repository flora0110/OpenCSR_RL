{
  "nbformat": 4,
  "nbformat_minor": 0,
  "metadata": {
    "colab": {
      "provenance": [],
      "authorship_tag": "ABX9TyPUStPLUYQ7pOkPL9+T40uP",
      "include_colab_link": true
    },
    "kernelspec": {
      "name": "python3",
      "display_name": "Python 3"
    },
    "language_info": {
      "name": "python"
    }
  },
  "cells": [
    {
      "cell_type": "markdown",
      "metadata": {
        "id": "view-in-github",
        "colab_type": "text"
      },
      "source": [
        "<a href=\"https://colab.research.google.com/github/flora0110/OpenCSR_RL/blob/main/F2FSpareS.ipynb\" target=\"_parent\"><img src=\"https://colab.research.google.com/assets/colab-badge.svg\" alt=\"Open In Colab\"/></a>"
      ]
    },
    {
      "cell_type": "code",
      "source": [
        "from google.colab import drive\n",
        "\n",
        "drive.mount('/content/drive', force_remount=True)"
      ],
      "metadata": {
        "colab": {
          "base_uri": "https://localhost:8080/"
        },
        "id": "ldw_bFxH6Syq",
        "outputId": "935ea2e2-e649-451d-8c90-38c232869b26"
      },
      "execution_count": 2,
      "outputs": [
        {
          "output_type": "stream",
          "name": "stdout",
          "text": [
            "Mounted at /content/drive\n"
          ]
        }
      ]
    },
    {
      "cell_type": "code",
      "source": [
        "import pandas as pd\n",
        "from scipy.sparse import dok_matrix"
      ],
      "metadata": {
        "id": "Xb_lFRPd0_D9"
      },
      "execution_count": 4,
      "outputs": []
    },
    {
      "cell_type": "code",
      "source": [
        "# read GenericsKB to Pandas DataFrame\n",
        "df = pd.read_csv('/content/drive/MyDrive/Research/GenericsKB-Best.tsv',sep='\\t')"
      ],
      "metadata": {
        "id": "tawdXkuxAcRb"
      },
      "execution_count": 5,
      "outputs": []
    },
    {
      "cell_type": "code",
      "source": [
        "df[:10]"
      ],
      "metadata": {
        "colab": {
          "base_uri": "https://localhost:8080/",
          "height": 363
        },
        "id": "0_OxwpR26Ezq",
        "outputId": "8bebe18f-e5ba-4c32-c951-2c96f5f5db98"
      },
      "execution_count": 6,
      "outputs": [
        {
          "output_type": "execute_result",
          "data": {
            "text/plain": [
              "       SOURCE             TERM QUANTIFIER  \\\n",
              "0    Waterloo       aa battery        NaN   \n",
              "1         ARC  aardvark female        NaN   \n",
              "2         ARC    aardvark hole        NaN   \n",
              "3    Waterloo    aardvark skin        NaN   \n",
              "4  WordNet3.0         aardvark        NaN   \n",
              "5         ARC         aardvark        NaN   \n",
              "6         ARC         aardvark        NaN   \n",
              "7         ARC         aardvark        NaN   \n",
              "8         ARC         aardvark        NaN   \n",
              "9         ARC         aardvark        NaN   \n",
              "\n",
              "                                    GENERIC SENTENCE     SCORE  \n",
              "0  AA batteries maintain the settings if the powe...  0.350923  \n",
              "1  Aardvark females appear to come into season on...  0.570737  \n",
              "2  Aardvark holes are used by small buck as a res...  0.574909  \n",
              "3        Aardvark skin is thick and sparsely haired.  0.444273  \n",
              "4                               Aardvark isa mammal.  1.000000  \n",
              "5                    Aardvarks also dig to get food.  0.590054  \n",
              "6  Aardvarks also eat locusts and a type of grass...  0.724097  \n",
              "7  Aardvarks also require sandy soil, as opposed ...  0.708718  \n",
              "8                Aardvarks are a nocturnal creature.  0.712522  \n",
              "9       Aardvarks are about the size of a small pig.  0.620401  "
            ],
            "text/html": [
              "\n",
              "  <div id=\"df-47e036f8-f10d-4caf-9f67-293cb36cdbdb\">\n",
              "    <div class=\"colab-df-container\">\n",
              "      <div>\n",
              "<style scoped>\n",
              "    .dataframe tbody tr th:only-of-type {\n",
              "        vertical-align: middle;\n",
              "    }\n",
              "\n",
              "    .dataframe tbody tr th {\n",
              "        vertical-align: top;\n",
              "    }\n",
              "\n",
              "    .dataframe thead th {\n",
              "        text-align: right;\n",
              "    }\n",
              "</style>\n",
              "<table border=\"1\" class=\"dataframe\">\n",
              "  <thead>\n",
              "    <tr style=\"text-align: right;\">\n",
              "      <th></th>\n",
              "      <th>SOURCE</th>\n",
              "      <th>TERM</th>\n",
              "      <th>QUANTIFIER</th>\n",
              "      <th>GENERIC SENTENCE</th>\n",
              "      <th>SCORE</th>\n",
              "    </tr>\n",
              "  </thead>\n",
              "  <tbody>\n",
              "    <tr>\n",
              "      <th>0</th>\n",
              "      <td>Waterloo</td>\n",
              "      <td>aa battery</td>\n",
              "      <td>NaN</td>\n",
              "      <td>AA batteries maintain the settings if the powe...</td>\n",
              "      <td>0.350923</td>\n",
              "    </tr>\n",
              "    <tr>\n",
              "      <th>1</th>\n",
              "      <td>ARC</td>\n",
              "      <td>aardvark female</td>\n",
              "      <td>NaN</td>\n",
              "      <td>Aardvark females appear to come into season on...</td>\n",
              "      <td>0.570737</td>\n",
              "    </tr>\n",
              "    <tr>\n",
              "      <th>2</th>\n",
              "      <td>ARC</td>\n",
              "      <td>aardvark hole</td>\n",
              "      <td>NaN</td>\n",
              "      <td>Aardvark holes are used by small buck as a res...</td>\n",
              "      <td>0.574909</td>\n",
              "    </tr>\n",
              "    <tr>\n",
              "      <th>3</th>\n",
              "      <td>Waterloo</td>\n",
              "      <td>aardvark skin</td>\n",
              "      <td>NaN</td>\n",
              "      <td>Aardvark skin is thick and sparsely haired.</td>\n",
              "      <td>0.444273</td>\n",
              "    </tr>\n",
              "    <tr>\n",
              "      <th>4</th>\n",
              "      <td>WordNet3.0</td>\n",
              "      <td>aardvark</td>\n",
              "      <td>NaN</td>\n",
              "      <td>Aardvark isa mammal.</td>\n",
              "      <td>1.000000</td>\n",
              "    </tr>\n",
              "    <tr>\n",
              "      <th>5</th>\n",
              "      <td>ARC</td>\n",
              "      <td>aardvark</td>\n",
              "      <td>NaN</td>\n",
              "      <td>Aardvarks also dig to get food.</td>\n",
              "      <td>0.590054</td>\n",
              "    </tr>\n",
              "    <tr>\n",
              "      <th>6</th>\n",
              "      <td>ARC</td>\n",
              "      <td>aardvark</td>\n",
              "      <td>NaN</td>\n",
              "      <td>Aardvarks also eat locusts and a type of grass...</td>\n",
              "      <td>0.724097</td>\n",
              "    </tr>\n",
              "    <tr>\n",
              "      <th>7</th>\n",
              "      <td>ARC</td>\n",
              "      <td>aardvark</td>\n",
              "      <td>NaN</td>\n",
              "      <td>Aardvarks also require sandy soil, as opposed ...</td>\n",
              "      <td>0.708718</td>\n",
              "    </tr>\n",
              "    <tr>\n",
              "      <th>8</th>\n",
              "      <td>ARC</td>\n",
              "      <td>aardvark</td>\n",
              "      <td>NaN</td>\n",
              "      <td>Aardvarks are a nocturnal creature.</td>\n",
              "      <td>0.712522</td>\n",
              "    </tr>\n",
              "    <tr>\n",
              "      <th>9</th>\n",
              "      <td>ARC</td>\n",
              "      <td>aardvark</td>\n",
              "      <td>NaN</td>\n",
              "      <td>Aardvarks are about the size of a small pig.</td>\n",
              "      <td>0.620401</td>\n",
              "    </tr>\n",
              "  </tbody>\n",
              "</table>\n",
              "</div>\n",
              "      <button class=\"colab-df-convert\" onclick=\"convertToInteractive('df-47e036f8-f10d-4caf-9f67-293cb36cdbdb')\"\n",
              "              title=\"Convert this dataframe to an interactive table.\"\n",
              "              style=\"display:none;\">\n",
              "        \n",
              "  <svg xmlns=\"http://www.w3.org/2000/svg\" height=\"24px\"viewBox=\"0 0 24 24\"\n",
              "       width=\"24px\">\n",
              "    <path d=\"M0 0h24v24H0V0z\" fill=\"none\"/>\n",
              "    <path d=\"M18.56 5.44l.94 2.06.94-2.06 2.06-.94-2.06-.94-.94-2.06-.94 2.06-2.06.94zm-11 1L8.5 8.5l.94-2.06 2.06-.94-2.06-.94L8.5 2.5l-.94 2.06-2.06.94zm10 10l.94 2.06.94-2.06 2.06-.94-2.06-.94-.94-2.06-.94 2.06-2.06.94z\"/><path d=\"M17.41 7.96l-1.37-1.37c-.4-.4-.92-.59-1.43-.59-.52 0-1.04.2-1.43.59L10.3 9.45l-7.72 7.72c-.78.78-.78 2.05 0 2.83L4 21.41c.39.39.9.59 1.41.59.51 0 1.02-.2 1.41-.59l7.78-7.78 2.81-2.81c.8-.78.8-2.07 0-2.86zM5.41 20L4 18.59l7.72-7.72 1.47 1.35L5.41 20z\"/>\n",
              "  </svg>\n",
              "      </button>\n",
              "      \n",
              "  <style>\n",
              "    .colab-df-container {\n",
              "      display:flex;\n",
              "      flex-wrap:wrap;\n",
              "      gap: 12px;\n",
              "    }\n",
              "\n",
              "    .colab-df-convert {\n",
              "      background-color: #E8F0FE;\n",
              "      border: none;\n",
              "      border-radius: 50%;\n",
              "      cursor: pointer;\n",
              "      display: none;\n",
              "      fill: #1967D2;\n",
              "      height: 32px;\n",
              "      padding: 0 0 0 0;\n",
              "      width: 32px;\n",
              "    }\n",
              "\n",
              "    .colab-df-convert:hover {\n",
              "      background-color: #E2EBFA;\n",
              "      box-shadow: 0px 1px 2px rgba(60, 64, 67, 0.3), 0px 1px 3px 1px rgba(60, 64, 67, 0.15);\n",
              "      fill: #174EA6;\n",
              "    }\n",
              "\n",
              "    [theme=dark] .colab-df-convert {\n",
              "      background-color: #3B4455;\n",
              "      fill: #D2E3FC;\n",
              "    }\n",
              "\n",
              "    [theme=dark] .colab-df-convert:hover {\n",
              "      background-color: #434B5C;\n",
              "      box-shadow: 0px 1px 3px 1px rgba(0, 0, 0, 0.15);\n",
              "      filter: drop-shadow(0px 1px 2px rgba(0, 0, 0, 0.3));\n",
              "      fill: #FFFFFF;\n",
              "    }\n",
              "  </style>\n",
              "\n",
              "      <script>\n",
              "        const buttonEl =\n",
              "          document.querySelector('#df-47e036f8-f10d-4caf-9f67-293cb36cdbdb button.colab-df-convert');\n",
              "        buttonEl.style.display =\n",
              "          google.colab.kernel.accessAllowed ? 'block' : 'none';\n",
              "\n",
              "        async function convertToInteractive(key) {\n",
              "          const element = document.querySelector('#df-47e036f8-f10d-4caf-9f67-293cb36cdbdb');\n",
              "          const dataTable =\n",
              "            await google.colab.kernel.invokeFunction('convertToInteractive',\n",
              "                                                     [key], {});\n",
              "          if (!dataTable) return;\n",
              "\n",
              "          const docLinkHtml = 'Like what you see? Visit the ' +\n",
              "            '<a target=\"_blank\" href=https://colab.research.google.com/notebooks/data_table.ipynb>data table notebook</a>'\n",
              "            + ' to learn more about interactive tables.';\n",
              "          element.innerHTML = '';\n",
              "          dataTable['output_type'] = 'display_data';\n",
              "          await google.colab.output.renderOutput(dataTable, element);\n",
              "          const docLink = document.createElement('div');\n",
              "          docLink.innerHTML = docLinkHtml;\n",
              "          element.appendChild(docLink);\n",
              "        }\n",
              "      </script>\n",
              "    </div>\n",
              "  </div>\n",
              "  "
            ]
          },
          "metadata": {},
          "execution_count": 6
        }
      ]
    },
    {
      "cell_type": "markdown",
      "source": [
        "## make Sparse Fact-to-Fact Index S"
      ],
      "metadata": {
        "id": "0WBe9S0-AN8T"
      }
    },
    {
      "cell_type": "code",
      "source": [
        "# get unique concept\n",
        "# use set becuase we only care if the element exsit, so we dont need index\n",
        "# set not allow duplicate element\n",
        "concepts = set(df[\"TERM\"].unique())"
      ],
      "metadata": {
        "id": "tg81yO2n1Yfs"
      },
      "execution_count": 7,
      "outputs": []
    },
    {
      "cell_type": "code",
      "source": [
        "concepts_list = list(concepts)\n",
        "concepts_list[:10]"
      ],
      "metadata": {
        "colab": {
          "base_uri": "https://localhost:8080/"
        },
        "id": "lIpjJigw6Jky",
        "outputId": "717ac4bf-5fcd-4752-9d51-d7fd377d4dc3"
      },
      "execution_count": 8,
      "outputs": [
        {
          "output_type": "execute_result",
          "data": {
            "text/plain": [
              "['fine florist',\n",
              " nan,\n",
              " 'honey comb',\n",
              " 'final',\n",
              " 'animal language',\n",
              " 'seismic migration',\n",
              " 'corticosteroid treatment',\n",
              " 'cyan',\n",
              " 'unsubstituted amide',\n",
              " 'fewer bone']"
            ]
          },
          "metadata": {},
          "execution_count": 8
        }
      ]
    },
    {
      "cell_type": "code",
      "source": [
        "# create a concept2idx(dic)，let every concept has index\n",
        "concept2idx = {c: i for i, c in enumerate(concepts)}"
      ],
      "metadata": {
        "id": "DBxK02iHAm7D"
      },
      "execution_count": 9,
      "outputs": []
    },
    {
      "cell_type": "code",
      "source": [
        "#---- tes code----\n",
        "\n",
        "from itertools import islice\n",
        "\n",
        "# print first 10 element\n",
        "for key, value in islice(concept2idx.items(), 10):\n",
        "    print(key, value)\n"
      ],
      "metadata": {
        "colab": {
          "base_uri": "https://localhost:8080/"
        },
        "id": "KKlQIJbR7tHX",
        "outputId": "5dbe34ef-4e39-4332-e013-8767507f6012"
      },
      "execution_count": 12,
      "outputs": [
        {
          "output_type": "stream",
          "name": "stdout",
          "text": [
            "fine florist 0\n",
            "nan 1\n",
            "honey comb 2\n",
            "final 3\n",
            "animal language 4\n",
            "seismic migration 5\n",
            "corticosteroid treatment 6\n",
            "cyan 7\n",
            "unsubstituted amide 8\n",
            "fewer bone 9\n"
          ]
        }
      ]
    },
    {
      "cell_type": "code",
      "source": [
        "# create a spare matrix S，size=|F| × |F|\n",
        "S = dok_matrix((len(concepts), len(concepts)), dtype=bool)"
      ],
      "metadata": {
        "id": "N_gN3O1iA209"
      },
      "execution_count": 13,
      "outputs": []
    },
    {
      "cell_type": "markdown",
      "source": [
        "### convert \"GENERIC SENTENCE\" to list of concept"
      ],
      "metadata": {
        "id": "-iGMpwMX_xt1"
      }
    },
    {
      "cell_type": "code",
      "source": [
        "how_many_sentence_we_use = 10000"
      ],
      "metadata": {
        "id": "dEqOrNDWw20I"
      },
      "execution_count": 80,
      "outputs": []
    },
    {
      "cell_type": "code",
      "source": [
        "import nltk\n",
        "from nltk.stem import WordNetLemmatizer"
      ],
      "metadata": {
        "id": "ehiAtdLT_6GH"
      },
      "execution_count": 26,
      "outputs": []
    },
    {
      "cell_type": "code",
      "source": [
        "# download necessary NLTK data (only need to do this once)\n",
        "nltk.download(\"punkt\")\n",
        "nltk.download(\"averaged_perceptron_tagger\")\n",
        "nltk.download(\"maxent_ne_chunker\")\n",
        "nltk.download(\"words\")\n",
        "nltk.download('wordnet')"
      ],
      "metadata": {
        "colab": {
          "base_uri": "https://localhost:8080/"
        },
        "id": "wm_nrOEG_l6o",
        "outputId": "eb0b3972-4a57-46d8-fa84-adfe24c918a4"
      },
      "execution_count": 30,
      "outputs": [
        {
          "output_type": "stream",
          "name": "stderr",
          "text": [
            "[nltk_data] Downloading package punkt to /root/nltk_data...\n",
            "[nltk_data]   Package punkt is already up-to-date!\n",
            "[nltk_data] Downloading package averaged_perceptron_tagger to\n",
            "[nltk_data]     /root/nltk_data...\n",
            "[nltk_data]   Package averaged_perceptron_tagger is already up-to-\n",
            "[nltk_data]       date!\n",
            "[nltk_data] Downloading package maxent_ne_chunker to\n",
            "[nltk_data]     /root/nltk_data...\n",
            "[nltk_data]   Package maxent_ne_chunker is already up-to-date!\n",
            "[nltk_data] Downloading package words to /root/nltk_data...\n",
            "[nltk_data]   Package words is already up-to-date!\n",
            "[nltk_data] Downloading package wordnet to /root/nltk_data...\n"
          ]
        },
        {
          "output_type": "execute_result",
          "data": {
            "text/plain": [
              "True"
            ]
          },
          "metadata": {},
          "execution_count": 30
        }
      ]
    },
    {
      "cell_type": "code",
      "source": [
        "df.shape"
      ],
      "metadata": {
        "colab": {
          "base_uri": "https://localhost:8080/"
        },
        "id": "ti8MD5eDcb23",
        "outputId": "4653e501-a923-45e6-b5c5-530246b6b63b"
      },
      "execution_count": 38,
      "outputs": [
        {
          "output_type": "execute_result",
          "data": {
            "text/plain": [
              "(1020868, 5)"
            ]
          },
          "metadata": {},
          "execution_count": 38
        }
      ]
    },
    {
      "cell_type": "code",
      "source": [
        "short_df = df.sample(n=how_many_sentence_we_use, random_state=42).reset_index(drop=True)\n",
        "short_df.shape"
      ],
      "metadata": {
        "colab": {
          "base_uri": "https://localhost:8080/"
        },
        "id": "xsDzE7DGdP0r",
        "outputId": "75e6df74-1de9-4976-b66d-8355e9e77d04"
      },
      "execution_count": 83,
      "outputs": [
        {
          "output_type": "execute_result",
          "data": {
            "text/plain": [
              "(10000, 5)"
            ]
          },
          "metadata": {},
          "execution_count": 83
        }
      ]
    },
    {
      "cell_type": "code",
      "source": [
        "facts_GENERICSENTENCE = short_df['GENERIC SENTENCE']"
      ],
      "metadata": {
        "id": "CBA79kibzskl"
      },
      "execution_count": 104,
      "outputs": []
    },
    {
      "cell_type": "code",
      "source": [
        "facts_GENERICSENTENCE[:10]"
      ],
      "metadata": {
        "colab": {
          "base_uri": "https://localhost:8080/"
        },
        "id": "amRJHy56z6Ba",
        "outputId": "e200b554-7733-42db-af59-4fafaaeaad59"
      },
      "execution_count": 105,
      "outputs": [
        {
          "output_type": "execute_result",
          "data": {
            "text/plain": [
              "0    Hawks start breeding when they are one year old .\n",
              "1                           Companies have candidates.\n",
              "2                          Most male owls bring meals.\n",
              "3    Colon cancer is now the leading cause of cance...\n",
              "4    Some objects have sharp geometric features suc...\n",
              "5    Citizenship is in many ways a difficult and pe...\n",
              "6    Some lizards change color in response to their...\n",
              "7                          Every computer has a clock.\n",
              "8                          All glands receive vessels.\n",
              "9    Alcohol affects the central nervous system of ...\n",
              "Name: GENERIC SENTENCE, dtype: object"
            ]
          },
          "metadata": {},
          "execution_count": 105
        }
      ]
    },
    {
      "cell_type": "code",
      "source": [
        "concepts_GENERICSENTENCE = []\n",
        "# 定義lemmatizer\n",
        "lemmatizer = WordNetLemmatizer()\n",
        "\n",
        "for idx, row in short_df.iterrows():\n",
        "  #print(str(idx)+\" : \"+row[\"GENERIC SENTENCE\"])\n",
        "  tokens = nltk.word_tokenize(row[\"GENERIC SENTENCE\"])\n",
        "  #print(tokens)\n",
        "  # perform part-of-speech tagging to identify nouns and noun phrases\n",
        "  pos_tags = nltk.pos_tag(tokens)\n",
        "  #print(pos_tags)\n",
        "  concepts = set()\n",
        "  for i in range(len(pos_tags)):\n",
        "    if pos_tags[i][1].startswith(\"NN\"):  # check if the word is a noun\n",
        "      # 使用lemmatizer將單數名詞還原為原形\n",
        "      lemma = lemmatizer.lemmatize(pos_tags[i][0], pos=pos_tags[i][1][0].lower())\n",
        "      # 加入到概念中\n",
        "      concepts.add(lemma)\n",
        "  #print(concepts)\n",
        "  #print(\"\\n\")\n",
        "  concepts_GENERICSENTENCE.append(concepts)\n",
        "    "
      ],
      "metadata": {
        "id": "OxDLiHEy_98q"
      },
      "execution_count": 84,
      "outputs": []
    },
    {
      "cell_type": "code",
      "source": [
        "concepts_GENERICSENTENCE"
      ],
      "metadata": {
        "colab": {
          "base_uri": "https://localhost:8080/"
        },
        "id": "BXbGVGoSdpsv",
        "outputId": "dac34365-d8a5-4c84-c65b-9dfa0a442add"
      },
      "execution_count": 85,
      "outputs": [
        {
          "output_type": "execute_result",
          "data": {
            "text/plain": [
              "[{'Hawks', 'year'},\n",
              " {'Companies', 'candidate'},\n",
              " {'bring', 'meal', 'owl'},\n",
              " {'Colon', 'cancer', 'cause', 'death', 'nonsmoker'},\n",
              " {'corner', 'crease', 'feature', 'object'},\n",
              " {'Citizenship', 'life', 'way'},\n",
              " {'color', 'lizard', 'mood', 'response'},\n",
              " {'clock', 'computer'},\n",
              " {'gland', 'vessel'},\n",
              " {'Alcohol', 'driver', 'system'},\n",
              " {'Silk', 'resistant', 'water'},\n",
              " {'energy', 'plant'},\n",
              " {'Slugs', 'marigold'},\n",
              " {'cache', 'space'},\n",
              " {'computer', 'graphic', 'picture'},\n",
              " {'centrifugation', 'measure', 'rate', 'sediment'},\n",
              " {'Protection', 'detection'},\n",
              " {'Hate', 'community', 'crime', 'fabric', 'society'},\n",
              " {'Communication', 'basis', 'decision'},\n",
              " {'Geomancies', 'divination'},\n",
              " {'baby', 'developing', 'nutrition'},\n",
              " {'Pressure', 'pressure'},\n",
              " {'birth', 'boar', 'dog', 'drainage', 'man', 'remain', 'system'},\n",
              " {'Packers', 'cell', 'part'},\n",
              " {'compound', 'room', 'substance', 'temperature'},\n",
              " {'Ear', 'microscopic', 'mite', 'organism', 'tick'},\n",
              " {'Ethics', 'practice', 'structure', 'theory'},\n",
              " {'Bats', 'day', 'group', 'winter'},\n",
              " {'love', 'reward'},\n",
              " {'parent', 'tongue'},\n",
              " {'Health', 'men', 'problem', 'woman'},\n",
              " {'Address', 'book', 'cabinet'},\n",
              " {'Bats', 'night'},\n",
              " {'absorb', 'contaminant', 'food', 'lifetime'},\n",
              " {'develop', 'ovule'},\n",
              " {'Zinc', 'cream', 'oxide'},\n",
              " {'sedum', 'stonecrop'},\n",
              " {'Bomblets', 'bomb', 'cluster', 'part'},\n",
              " {'Fluorescent', 'probe', 'specie'},\n",
              " {'Silkworms', 'chameleon', 'food', 'item', 'staple'},\n",
              " {'aerodynamics', 'cyclist', 'helmet', 'reason', 'safety'},\n",
              " {'Stock', 'market', 'thermometer'},\n",
              " {'Chemistry', 'study'},\n",
              " {'accusation', 'recrimination'},\n",
              " {'Greenways', 'access', 'habitat', 'quality', 'streamside', 'water'},\n",
              " {'foot', 'shrew'},\n",
              " {'foliage', 'swan'},\n",
              " {'Deer', 'area'},\n",
              " {'Blood', 'component'},\n",
              " {'brook', 'stream', 'trout'},\n",
              " {'Wind', 'branch', 'break', 'leaf', 'sun'},\n",
              " {'Parents', 'child'},\n",
              " {'pet', 'store', 'tank', 'water'},\n",
              " {'Shortness', 'breath', 'source'},\n",
              " {'Oxygen', 'water'},\n",
              " {'disease', 'dog', 'transmit'},\n",
              " {'Government', 'life', 'policy'},\n",
              " {'America', 'Brown', 'Eurasia', 'North', 'bear'},\n",
              " {'Coastal', 'form', 'geology', 'rock', 'sediment', 'zone'},\n",
              " {'Electric', 'current', 'field'},\n",
              " {'light', 'medium', 'transparent'},\n",
              " {'nutrient', 'pregnancy'},\n",
              " {'Namibia', 'Wildlife', 'hazard', 'night', 'road'},\n",
              " {'Grizzlies', 'bear'},\n",
              " {'Outbreaks', 'explanation'},\n",
              " {'Troopers', 'nucleus', 'part'},\n",
              " {'Dandelions', 'taproot'},\n",
              " {'Centipedes', 'environment'},\n",
              " {'cell', 'hairlike', 'surface'},\n",
              " {'Militarization', 'control'},\n",
              " {'Bananas', 'speckle'},\n",
              " {'blade', 'device', 'wiper'},\n",
              " {'Carnivores', 'set', 'teeth'},\n",
              " {'Leopards', 'animal'},\n",
              " {'Typhoons', 'hour', 'kilometer', 'storm', 'velocity', 'wind'},\n",
              " {'America', 'Arthritis', 'cause', 'disability', 'number'},\n",
              " {'Tellers', 'part', 'section'},\n",
              " {'Turnips', 'feeder', 'root'},\n",
              " {'Furrows'},\n",
              " {'animal', 'family'},\n",
              " {'damage', 'plant'},\n",
              " {'Barbarians', 'game'},\n",
              " {'Ambition', 'goal', 'persistence', 'something', 'towards'},\n",
              " {'Listeria', 'infection', 'miscarriage', 'stillbirth', 'woman'},\n",
              " {'Hockey', 'sport', 'team'},\n",
              " {'fever', 'hay', 'people'},\n",
              " {'Degeneration', 'microspore', 'mitosis', 'stage'},\n",
              " {'Metal', 'fire', 'resistance', 'roofing'},\n",
              " {'bean', 'kidney', 'protein'},\n",
              " {'Whales', 'freshwater', 'habitat'},\n",
              " {'Sundown', 'balance', 'day', 'night', 'time'},\n",
              " {'consists', 'food', 'rat'},\n",
              " {'Cetaceans', 'air', 'mammal'},\n",
              " {'Public', 'health', 'people', 'thing'},\n",
              " {'Gases', 'body', 'cell', 'membrane', 'osmosis', 'surface'},\n",
              " {'environment', 'focus', 'health', 'impact'},\n",
              " {'bat', 'eat'},\n",
              " {'Paleontologists', 'animal', 'fossil', 'plant'},\n",
              " {'pollen', 'weevil'},\n",
              " {'Web', 'computer', 'function', 'page', 'server'},\n",
              " {'religion', 'symbol'},\n",
              " {'Collimation', 'alignment', 'image', 'lens'},\n",
              " {'battery', 'energizer', 'panel', 'recharging', 'system'},\n",
              " {'Parsley', 'garden', 'nitrogen', 'part', 'shade', 'soil', 'sun'},\n",
              " {'bud', 'differs', 'fescue', 'leaf', 'ryegrass', 'stage'},\n",
              " {'Transducers', 'Type-converters'},\n",
              " {'Ferrets'},\n",
              " {'change', 'insect', 'observation', 'pest', 'population'},\n",
              " {'Lighter', 'center', 'material', 'surface'},\n",
              " {'Cats'},\n",
              " {'Agriculture', 'coating', 'feed', 'hog', 'seed', 'supplement'},\n",
              " {'Chilean', 'city', 'sewer'},\n",
              " {'Greek', 'Roman', 'example', 'fresco', 'painting'},\n",
              " {'goral', 'limb'},\n",
              " {'bowel', 'emotion'},\n",
              " {'Minnows', 'fish', 'freshwater'},\n",
              " {'Individuals'},\n",
              " {'Jurassic', 'Lower', 'crab', 'fossil', 'record'},\n",
              " {'Males', 'age', 'blood', 'female', 'pressure', 'risk'},\n",
              " {'model', 'network'},\n",
              " {'Dehydration', 'area', 'outdoors'},\n",
              " {'bud', 'color', 'covering', 'fiber', 'scale', 'wax'},\n",
              " {'people'},\n",
              " {'Alaska', 'Oil', 'industry'},\n",
              " {'Perceptual', 'development'},\n",
              " {'Human', 'land', 'water', 'work'},\n",
              " {'grass', 'herbivore', 'sea'},\n",
              " {'Citizenship', 'residence'},\n",
              " {'football', 'touch'},\n",
              " {'Narration', 'language', 'print', 'translation'},\n",
              " {'herbicide', 'sorghum', 'soybean'},\n",
              " {'predator', 'shellfish'},\n",
              " {'Mites', 'part', 'thorax'},\n",
              " {'Offal', 'meat'},\n",
              " {'Computer', 'force', 'graphic', 'relationship'},\n",
              " {'Frogs', 'water'},\n",
              " {'area', 'problem'},\n",
              " {'Screwdrivers', 'hand', 'tool'},\n",
              " {'Bitches', 'cycle', 'heat', 'react', 'time', 'year'},\n",
              " {'Shad', 'life', 'ocean', 'river'},\n",
              " {'creature', 'habit'},\n",
              " {'Grain', 'country', 'grows'},\n",
              " {'Seasonal', 'development', 'fog', 'formation', 'vegetation'},\n",
              " {'leaf', 'stalk'},\n",
              " {'Pests', 'plant'},\n",
              " {'Fishhooks', 'part', 'section'},\n",
              " {'Constipation', 'fentanyl', 'intestine', 'motility', 'problem'},\n",
              " {'L', 'acid', 'ether', 'layer'},\n",
              " {'Mutation', 'alters', 'shape'},\n",
              " {'Butterflies', 'condition'},\n",
              " {'Crops', 'condition'},\n",
              " {'Wolves'},\n",
              " {'others', 'plant'},\n",
              " {'atom', 'light'},\n",
              " {'Oceans', 'sailing'},\n",
              " {'archive', 'article', 'photography', 'support'},\n",
              " {'Decisions', 'participation'},\n",
              " {'damage', 'disturbance', 'muscle', 'symptom'},\n",
              " {'entertainment', 'feature', 'fluctuation', 'industry'},\n",
              " {'Stress', 'life', 'thing'},\n",
              " {'people', 'person'},\n",
              " {'food', 'mass', 'place', 'temperature'},\n",
              " {'flower', 'life', 'plant'},\n",
              " {'pheasant', 'vegetation'},\n",
              " {'Succession', 'condition', 'pioneer', 'specie'},\n",
              " {'effect', 'extent', 'injury', 'management'},\n",
              " {'drop', 'earring'},\n",
              " {'Cold', 'plant', 'weather'},\n",
              " {'milligram', 'sodium'},\n",
              " {'eyelid', 'part'},\n",
              " {'Proteases', 'scissors'},\n",
              " {'Piracy', 'act'},\n",
              " {'Minerals', 'function', 'maintenance', 'muscle', 'nerve', 'skeleton'},\n",
              " {'Phytoplankton', 'bacteria', 'protist'},\n",
              " {'modeling', 'selection'},\n",
              " {'Secretion', 'isa', 'process'},\n",
              " {'People', 'woman'},\n",
              " {'Internet', 'antecedent', 'fraud'},\n",
              " {'Hindu', 'Purity', 'Sikh', 'culture', 'value'},\n",
              " {'category', 'death', 'injury', 'motor'},\n",
              " {'Zirconia', 'abrasive', 'component', 'sandpaper', 'wheel'},\n",
              " {'Half-brothers', 'body', 'material', 'part'},\n",
              " {'Rods', 'ft', 'part'},\n",
              " {'Courgettes', 'colour', 'shape', 'variety'},\n",
              " {'Pork', 'pig'},\n",
              " {'Fruit', 'angiosperm', 'characteristic', 'plant', 'tissue'},\n",
              " {'Men', 'consume', 'protein'},\n",
              " {'Libertarians', 'freedom', 'government', 'responsibility'},\n",
              " {'calf', 'year'},\n",
              " {'Perception', 'control', 'gene'},\n",
              " {'animal', 'whale'},\n",
              " {'child', 'dream', 'generation', 'parent'},\n",
              " {'Kitchens', 'restaurant'},\n",
              " {'Budgerigars', 'cage', 'part', 'rib'},\n",
              " {'Contour', 'drawing', 'way'},\n",
              " {'Muscles', 'cell', 'muscle'},\n",
              " {'Sugar', 'allergy', 'food'},\n",
              " {'Selflessness', 'key'},\n",
              " {'Amateurs', 'comet', 'fun', 'hobby', 'people'},\n",
              " {'Domination', 'men', 'role', 'subordination', 'woman'},\n",
              " {'earth', 'radiation'},\n",
              " {'Factors', 'diversity'},\n",
              " {'coil', 'shape', 'spiral', 'spring'},\n",
              " {'compartment', 'fluid', 'illness'},\n",
              " {'Lenses', 'device'},\n",
              " {'business', 'change', 'information', 'model', 'system'},\n",
              " {'Water', 'survival', 'wellbeing'},\n",
              " {'atmosphere', 'vapor'},\n",
              " {'Cookies', 'computer', 'file', 'site', 'visitor'},\n",
              " {'Decapitation', 'country', 'custom', 'execution'},\n",
              " {'crisis'},\n",
              " {'apple', 'flower', 'tree'},\n",
              " {'belief', 'evidence'},\n",
              " {'Penalties', 'hockey', 'ice', 'part'},\n",
              " {'Intestinal', 'diarrhoea', 'toxemia'},\n",
              " {'Pests', 'organism', 'profit', 'yield'},\n",
              " {'Organisms', 'energy', 'transform'},\n",
              " {'Mixers', 'drink', 'part'},\n",
              " {'Indium', 'byproduct', 'zinc'},\n",
              " {'History', 'event', 'history'},\n",
              " {'beading', 'glue', 'solvent'},\n",
              " {'Ecologists', 'growth', 'pollution'},\n",
              " {'Energy', 'system'},\n",
              " {'Pictures', 'suitcase'},\n",
              " {'Clouds', 'accumulation', 'atmosphere', 'droplet', 'water'},\n",
              " {'Theophylline', 'muscle'},\n",
              " {'Category', 'data', 'decision', 'manager'},\n",
              " {'ankle', 'board', 'movement', 'prop', 'wrist'},\n",
              " {'bacteria', 'infection', 'skin'},\n",
              " {'Proteins', 'acid', 'polypeptide', 'sequence'},\n",
              " {'Hardy', 'desert', 'plant', 'water'},\n",
              " {'Housework', 'possibility', 'self-actualization'},\n",
              " {'color', 'neon'},\n",
              " {'concentration', 'crankiness', 'inability', 'sleep', 'sluggishness'},\n",
              " {'Sexism', 'discrimination'},\n",
              " {'exacerbation', 'illness', 'period', 'remission'},\n",
              " {'War', 'kill', 'men'},\n",
              " {'A-subtypes', 'duck', 'number', 'reservoir'},\n",
              " {'Distillation', 'process'},\n",
              " {'Omnivores', 'diet'},\n",
              " {'Black', 'shore', 'tide'},\n",
              " {'Litter', 'breeding', 'disease', 'insect', 'place', 'rodent', 'snake'},\n",
              " {'number', 'plant'},\n",
              " {'cycle', 'helminth', 'host', 'life'},\n",
              " {'plant', 'soil'},\n",
              " {'Yttrium', 'affinity', 'element', 'oxygen'},\n",
              " {'Thromboembolism', 'incapacitation', 'risk'},\n",
              " {'body', 'neuron', 'type'},\n",
              " {'person', 'positivist'},\n",
              " {'Chemical', 'Denmark', 'life', 'part', 'society', 'substance'},\n",
              " {'Bile', 'bacteria', 'kind', 'positive', 'salt'},\n",
              " {'ALL', 'Story', 'age', 'people', 'time'},\n",
              " {'Diploid', 'germ', 'meiosis'},\n",
              " {'Activities'},\n",
              " {'Cars', 'gasoline'},\n",
              " {'hamster', 'infection'},\n",
              " {'White', 'blend', 'color', 'comer', 'flower'},\n",
              " {'Consumer', 'confidence', 'growth', 'indicator'},\n",
              " {'Discrete',\n",
              "  'fundamental',\n",
              "  'logic',\n",
              "  'mathematics',\n",
              "  'present',\n",
              "  'proof',\n",
              "  'technique',\n",
              "  'theory'},\n",
              " {'Sphagnum', 'component', 'peat'},\n",
              " {'furniture'},\n",
              " {'Tooths', 'dentist'},\n",
              " {'Poverty', 'problem', 'world'},\n",
              " {'fender', 'mudguard'},\n",
              " {'Chemical', 'atom', 'reaction'},\n",
              " {'Stock', 'part', 'plant', 'scion'},\n",
              " {'brain', 'chemistry', 'drug', 'impact'},\n",
              " {'Honeybees', 'honey', 'producer'},\n",
              " {'Love', 'emotion'},\n",
              " {'Sequoia', 'redwood', 'valaues', 'wood'},\n",
              " {'Lamps', 'light', 'use'},\n",
              " {'cocaine', 'danger', 'fetus', 'woman'},\n",
              " {'encourages', 'planting', 'year'},\n",
              " {'Opsonins', 'chain', 'chemical', 'part'},\n",
              " {'Warm', 'crop', 'season', 'temperature'},\n",
              " {'Women', 'men'},\n",
              " {'Sea', 'sensitivity', 'urchin'},\n",
              " {'Dust', 'particulate'},\n",
              " {'Sea', 'breath', 'period', 'snake'},\n",
              " {'People', 'allergy', 'food'},\n",
              " {'Winds', 'pressure'},\n",
              " {'layer', 'rock', 'stratification'},\n",
              " {'dinosaur', 'hadrosaurus'},\n",
              " {'Religion', 'curse', 'earth'},\n",
              " {'Plants', 'animal', 'energy', 'supply'},\n",
              " {'Steroids', 'effect', 'side', 'term'},\n",
              " {'mite', 'skin'},\n",
              " {'Biographies', 'library'},\n",
              " {'Airways', 'air', 'lung'},\n",
              " {'Climates', 'variation'},\n",
              " {'moisture', 'plant'},\n",
              " {'Faith', 'heart'},\n",
              " {'habitat', 'lobster'},\n",
              " {'Hummingbirds', 'feeder', 'ribbon'},\n",
              " {'Farmers', 'cattle', 'herd', 'ox', 'sheep'},\n",
              " {'Candles', 'restaurant'},\n",
              " {'Sunglasses', 'color', 'price', 'size'},\n",
              " {'Glucose', 'age', 'tolerance'},\n",
              " {'lymphedema'},\n",
              " {'Energy', 'cost', 'use'},\n",
              " {'Contaminants', 'groundwater', 'soil'},\n",
              " {'bat', 'building'},\n",
              " {'health', 'pollution'},\n",
              " {'saltwater', 'shark'},\n",
              " {'Crabs', 'eye'},\n",
              " {'Turbulence', 'sky'},\n",
              " {'camera', 'zoom'},\n",
              " {'Geothermal', 'earth', 'energy', 'heat'},\n",
              " {'choice', 'environment', 'offspring', 'selection'},\n",
              " {'marten', 'patch'},\n",
              " {'Water', 'cycle', 'water'},\n",
              " {'Engineers', 'academia', 'industry'},\n",
              " {'milk', 'vitamin'},\n",
              " {'egg', 'embryo'},\n",
              " {'Flight', 'air', 'downwards', 'lift', 'wing'},\n",
              " {'energy', 'sum'},\n",
              " {'Influenza', 'infection', 'respiratory', 'variety', 'virus'},\n",
              " {'Dill', 'part', 'vacuole'},\n",
              " {'attention', 'span'},\n",
              " {'acid', 'dizziness', 'headache', 'palpitation'},\n",
              " {'Neurons', 'brain', 'disease', 'injury'},\n",
              " {'Aspiration', 'chance', 'pneumonia'},\n",
              " {'Caucus', 'discussion', 'system', 'web'},\n",
              " {'Cats', 'rodent'},\n",
              " {'Countries', 'area'},\n",
              " {'Development', 'construction'},\n",
              " {'Governments', 'child', 'parent'},\n",
              " {'Ice', 'air', 'amount', 'cream', 'product'},\n",
              " {'bat', 'snout'},\n",
              " {'Sunspots', 'direction', 'field', 'pair'},\n",
              " {'Scientists', 'action', 'compound', 'hormone'},\n",
              " {'Ghosts', 'death'},\n",
              " {'branch', 'kind', 'thing', 'twig', 'wreath'},\n",
              " {'Experiments', 'field'},\n",
              " {'Time', 'mean', 'measuring', 'tool'},\n",
              " {'deer', 'density'},\n",
              " {'Urbanization', 'effect'},\n",
              " {'eye', 'prosthesis'},\n",
              " {'Feature', 'feature', 'problem', 'selection', 'subset'},\n",
              " {'factor', 'hedgehog'},\n",
              " {'Men', 'act', 'woman'},\n",
              " {'Pistols', 'barrel', 'gun', 'part'},\n",
              " {'Electric', 'charge', 'conductor', 'flow'},\n",
              " {'Conditions', 'health'},\n",
              " {'Nightmares', 'time'},\n",
              " {'Induced', 'abortion', 'pregnancy', 'procedure'},\n",
              " {'Scientists', 'brain', 'part', 'time'},\n",
              " {'fainting', 'fall', 'hypotension'},\n",
              " {'diet', 'hyena'},\n",
              " {'Ice', 'throttle'},\n",
              " {'Hyenas', 'role'},\n",
              " {'Crabs', 'claw', 'use'},\n",
              " {'Computers', 'block', 'information', 'size'},\n",
              " {'Fronds'},\n",
              " {'DNA', 'Eukaryotes', 'archaea', 'bacteria'},\n",
              " {'Endoplasmic', 'cytoplasm', 'membrane', 'network', 'reticulum'},\n",
              " {'Acrobat', 'ant', 'food', 'insect', 'sweet', 'variety'},\n",
              " {'ball', 'doll', 'noise', 'plaything', 'talk'},\n",
              " {'chart', 'organization'},\n",
              " {'anvil', 'surface'},\n",
              " {'Auroras', 'chance', 'people', 'sky'},\n",
              " {'Fang', 'tooth'},\n",
              " {'Swamps', 'place', 'turtle'},\n",
              " {'Hair', 'follicle', 'growth', 'skin', 'structure'},\n",
              " {'grasshopper', 'insect'},\n",
              " {'herb', 'people'},\n",
              " {'Smoking', 'drinking', 'everybody'},\n",
              " {'Malaria', 'Zimbabwe'},\n",
              " {'collector', 'dozen', 'glass', 'kind'},\n",
              " {'flipper', 'manatee', 'nail', 'tip'},\n",
              " {'Cheesecake'},\n",
              " {'area', 'seed'},\n",
              " {'Sharks', 'nucleus', 'part'},\n",
              " {'Sustainability', 'energy', 'goal', 'policy'},\n",
              " {'business', 'meeting', 'planner'},\n",
              " {'Infection', 'dust', 'inhalation'},\n",
              " {'Agriculture', 'contamination', 'source'},\n",
              " {'pain', 'symptom'},\n",
              " {'environment', 'reactivity'},\n",
              " {'Patients', 'tolerance'},\n",
              " {'Companies', 'sale'},\n",
              " {'Vegetarians', 'milk'},\n",
              " {'fish', 'nostril'},\n",
              " {'diet', 'others', 'people'},\n",
              " {'Talk', 'people', 'show', 'thing', 'thought'},\n",
              " {'Teachers', 'growth'},\n",
              " {'Balls', 'toy'},\n",
              " {'Autos', 'automobile', 'engine', 'part'},\n",
              " {'color', 'detail', 'sunlight', 'wash'},\n",
              " {'Hotspot', 'location'},\n",
              " {'Mailboxs', 'door'},\n",
              " {'flare', 'sun'},\n",
              " {'Worn', 'contamination', 'debris', 'head', 'rate', 'source', 'tape', 'wear'},\n",
              " {'composition', 'group', 'reporting', 'statistic'},\n",
              " {'Stipulations', 'restriction'},\n",
              " {'Willows', 'blooming', 'phase', 'seed', 'spring', 'volume'},\n",
              " {'Glaciers'},\n",
              " {'Prices', 'quantity'},\n",
              " {'Coherence', 'body', 'mind', 'purity'},\n",
              " {'America', 'Fair', 'States', 'United', 'country', 'law', 'part', 'use'},\n",
              " {'Dinsdale', 'fine-silty', 'soil'},\n",
              " {'Chimps', 'use', 'water'},\n",
              " {'Soccer', 'football'},\n",
              " {'Nicotine', 'control', 'method', 'pest'},\n",
              " {'Copyright', 'copy', 'owner'},\n",
              " {'Love', 'heat', 'life'},\n",
              " {'Children', 'habit'},\n",
              " {'Participants', 'treatment'},\n",
              " {'chemical', 'element', 'property'},\n",
              " {'Stairs', 'object'},\n",
              " {'Black', 'aeration', 'root', 'strategy', 'tissue'},\n",
              " {'Candida', 'discharge', 'itching', 'vaginitis'},\n",
              " {'disease', 'mite'},\n",
              " {'destruction', 'thing'},\n",
              " {'Stress', 'change', 'demand', 'response'},\n",
              " {'Level', 'decision', 'effect', 'maker'},\n",
              " {'Music', 'vibration'},\n",
              " {'control', 'law', 'pattern'},\n",
              " {'Thermopiles', 'organism'},\n",
              " {'gland', 'venom'},\n",
              " {'Parents', 'child', 'day', 'development', 'language', 'speech', 'thing'},\n",
              " {'duct', 'gland'},\n",
              " {'Money', 'adulthood', 'card', 'entry'},\n",
              " {'distress', 'injury', 'shock', 'suffering'},\n",
              " {'force', 'personnel', 'work'},\n",
              " {'Climatology', 'century', 'globe', 'study', 'weather'},\n",
              " {'Flytraps', 'mix', 'part', 'peat', 'sand'},\n",
              " {'equipment', 'industry', 'issue', 'mass', 'semiconductor'},\n",
              " {'Games', 'part'},\n",
              " {'Drug', 'rise', 'testing', 'workplace'},\n",
              " {'Acute', 'toxicity'},\n",
              " {'Substances', 'level'},\n",
              " {'Rabbits', 'lifespan'},\n",
              " {'Companies', 'cost'},\n",
              " {'cow', 'summer'},\n",
              " {'civet', 'seed'},\n",
              " {'discipline', 'information', 'network', 'objectivity'},\n",
              " {'Gall', 'cell', 'overgrowth', 'wall'},\n",
              " {'Patients', 'experience', 'relief'},\n",
              " {'Giraffes', 'browser'},\n",
              " {'Children', 'ability', 'environment'},\n",
              " {'Internet', 'email', 'file', 'password', 'plethora', 'registration', 'user'},\n",
              " {'Environments', 'behavior'},\n",
              " {'Shunts', 'abdomen', 'fluid', 'heart'},\n",
              " {'skin', 'whale'},\n",
              " {'Florida', 'citrus', 'people', 'pepperoni', 'pizza'},\n",
              " {'Cockatoos', 'feather'},\n",
              " {'Iguanas', 'herbivore'},\n",
              " {'Enzymes', 'living', 'organism'},\n",
              " {'Insulation', 'R-value', 'aid', 'building', 'control', 'temperature'},\n",
              " {'Animals'},\n",
              " {'Bosses', 'condition'},\n",
              " {'limb', 'woodpecker'},\n",
              " {'Life', 'cycle', 'death', 'life'},\n",
              " {'Wholes', 'whole'},\n",
              " {'Plants', 'colour', 'courgette', 'green'},\n",
              " {'blue', 'brown', 'meat', 'raw'},\n",
              " {'Arenas', 'stadium'},\n",
              " {'Kangaroo', 'mammal', 'rat'},\n",
              " {'Pests', 'houseplant'},\n",
              " {'Cockroaches', 'carapace', 'part'},\n",
              " {'adaptation', 'architect', 'creation', 'renovation', 'space'},\n",
              " {'Timing', 'ability', 'measurement'},\n",
              " {'Height', 'gene'},\n",
              " {'Telomeres', 'animal', 'chromosome', 'human', 'plant', 'tip'},\n",
              " {'Chloroplasts', 'autofluorescent'},\n",
              " {'people', 'relationship', 'time'},\n",
              " {'backbone', 'business', 'economy'},\n",
              " {'abstraction', 'right'},\n",
              " {'Acorns', 'fall', 'floor', 'forest', 'grow', 'oak'},\n",
              " {'Mimicry', 'mimic', 'organism'},\n",
              " {'Kids', 'paint', 'picture'},\n",
              " {'Globalisation', 'creation', 'force', 'growth', 'job', 'policy'},\n",
              " {'Violence', 'being', 'destruction', 'object', 'refers'},\n",
              " {'Trees', 'home', 'perspective', 'shade', 'yard'},\n",
              " {'depression', 'state'},\n",
              " {'Immunoglobulins', 'body', 'component', 'system'},\n",
              " {'caterpillar', 'shrew'},\n",
              " {'cliff', 'goat', 'mountain'},\n",
              " {'bialy', 'roll'},\n",
              " {'Convents', 'part', 'section'},\n",
              " {'albatross'},\n",
              " {'wreath'},\n",
              " {'Diseases', 'fever'},\n",
              " {'cloud', 'ground', 'path'},\n",
              " {'Exposure', 'people', 'violence'},\n",
              " {'Deacon', 'Greek', 'diakonos', 'servant', 'word'},\n",
              " {'key', 'outbreak', 'pest', 'stability'},\n",
              " {'Fuji', 'Mt', 'andesite', 'basalt'},\n",
              " {'Human', 'creativity', 'future', 'key', 'term'},\n",
              " {'Dispersal', 'breeding', 'interaction', 'season'},\n",
              " {'aviation', 'bombing'},\n",
              " {'Computers', 'directory', 'structure', 'tree'},\n",
              " {'U.S.', 'backbone', 'business', 'economy'},\n",
              " {'Bluebottles', 'jellyfish', 'way'},\n",
              " {'Talk', 'goal'},\n",
              " {'Stress', 'living', 'pressure', 'reaction'},\n",
              " {'CDs', 'Toast', 'kind'},\n",
              " {'Computer', 'amount', 'limit', 'number', 'precision', 'program'},\n",
              " {'Organic', 'antibiotic', 'beef', 'feed'},\n",
              " {'Listeria', 'baby', 'immune', 'people', 'system', 'woman'},\n",
              " {'Spiders', 'predator'},\n",
              " {'creature', 'night', 'right', 'sun'},\n",
              " {'Receiver', 'equipment'},\n",
              " {'Coin', 'cash'},\n",
              " {'Diversity', 'attribute', 'people', 'range', 'refers', 'skill', 'work'},\n",
              " {'body', 'healing', 'heat', 'neoprene', 'property'},\n",
              " {'Disasters', 'earthquake', 'eruption', 'hurricane'},\n",
              " {'Pesticides', 'living', 'nature', 'organism', 'toxic'},\n",
              " {'Ground', 'beef', 'meat'},\n",
              " {'dog', 'leg', 'pain', 'source'},\n",
              " {'Chloroplasts', 'chlorophyll', 'light', 'pigment'},\n",
              " {'Stomachs', 'meal'},\n",
              " {'Features', 'drainage', 'water'},\n",
              " {'Mouses', 'kitchen'},\n",
              " {'factor', 'output'},\n",
              " {'Terrestrial', 'urea'},\n",
              " {'carbohydrate', 'fiber', 'grain', 'mineral', 'vitamin'},\n",
              " {'Third', 'party', 'policy', 'site'},\n",
              " {'Heart', 'U.S.', 'cause', 'death', 'disease', 'men', 'woman'},\n",
              " {'activity', 'labor', 'people'},\n",
              " {'Celtic', 'hillforts', 'hilltop', 'site', 'upland'},\n",
              " {'disability', 'factor', 'life'},\n",
              " {'Acids', 'pH', 'scale', 'substance'},\n",
              " {'Leaves', 'tree'},\n",
              " {'Thick', 'fur', 'oak', 'patch', 'pet', 'poison', 'symptom'},\n",
              " {'stone'},\n",
              " {'adoption', 'agency', 'child', 'couple', 'race'},\n",
              " {'Liquids', 'nose'},\n",
              " {'caterpillar', 'gland'},\n",
              " {'church', 'monastery', 'village'},\n",
              " {'Inheritance', 'information', 'parent', 'process'},\n",
              " {'Water', 'growth', 'place', 'surface'},\n",
              " {'dog', 'winter'},\n",
              " {'People', 'wood'},\n",
              " {'Pathogenic', 'bacteria', 'mechanism'},\n",
              " {'Asia', 'Chamomile', 'Europe', 'daisy', 'family', 'flowering', 'plant'},\n",
              " {'Defamatory', 'estimation', 'material', 'others', 'person', 'statement'},\n",
              " {'Deinonychuses', 'membrane', 'part', 'plasma'},\n",
              " {'Genes'},\n",
              " {'Meteorites', 'composition', 'shape', 'size'},\n",
              " {'Journalism', 'democracy', 'gear', 'grease'},\n",
              " {'elegance', 'excellence', 'inspiration', 'motivation'},\n",
              " {'crawler', 'criterion', 'page', 'popularity', 'search', 'web'},\n",
              " {'Control', 'movement'},\n",
              " {'Carbon', 'atom', 'isotope', 'mass'},\n",
              " {'Violence', 'begets', 'hate', 'violence'},\n",
              " {'White', 'food', 'mulberry', 'silkworm', 'source'},\n",
              " {'Waxes', 'acid', 'alcohol', 'chain', 'ester'},\n",
              " {'Fire', 'community', 'safety', 'warmth'},\n",
              " {'Soy', 'estrogen', 'isoflavones', 'plant', 'steroid'},\n",
              " {'Coffee', 'antioxidant'},\n",
              " {'Adolescent', 'cause', 'death', 'suicide', 'teenager'},\n",
              " {'Guts', 'nutrient'},\n",
              " {'communion', 'family', 'love', 'person'},\n",
              " {'course', 'degree', 'ice', 'water'},\n",
              " {'carcinogen', 'compound'},\n",
              " {'Understanding', 'fact', 'focus', 'lens'},\n",
              " {'Emulation', 'process', 'something'},\n",
              " {'Witches', 'female', 'male'},\n",
              " {'fly', 'frog', 'fruit', 'insect', 'tongue'},\n",
              " {'Friends', 'trust'},\n",
              " {'Cell', 'interaction', 'transmission'},\n",
              " {'Trees', 'chlorophyll'},\n",
              " {'Gerenuks', 'cavity', 'chest', 'part'},\n",
              " {'Mangos', 'salsa'},\n",
              " {'Principal', 'adjective', 'noun'},\n",
              " {'Hydroxide', 'group', 'ion'},\n",
              " {'Cats'},\n",
              " {'Stonefishs', 'cavity', 'chest', 'part'},\n",
              " {'Peppermint', 'stomach', 'tract'},\n",
              " {'Marketers', 'age', 'behavior', 'cooky', 'income', 'sex'},\n",
              " {'borer', 'drill'},\n",
              " {'Whales', 'tonne'},\n",
              " {'air', 'energy', 'process', 'transfer', 'water', 'wave'},\n",
              " {'Rape', 'act', 'sex'},\n",
              " {'Mosquitoes', 'portage', 'site'},\n",
              " {'Teachers', 'skill'},\n",
              " {'Mineralogists', 'scientist'},\n",
              " {'Politeness', 'nature', 'sense'},\n",
              " {'atom', 'part', 'starch'},\n",
              " {'Turkey', 'country', 'transition'},\n",
              " {'action', 'coelom', 'example', 'form', 'skeleton', 'worm'},\n",
              " {'music', 'speaker', 'swimmer', 'underwater'},\n",
              " {'Archaeology', 'artifact', 'attempt', 'prehistory', 'study'},\n",
              " {'Radiation', 'therapy'},\n",
              " {'Dogs', 'experience', 'ovulation'},\n",
              " {'education', 'family', 'patient', 'planning'},\n",
              " {'Gemstones', 'pyroxene', 'specialty', 'stone'},\n",
              " {'Cleavage', 'blastula', 'formation'},\n",
              " {'Burns', 'barrier', 'infection', 'skin'},\n",
              " {'day', 'election', 'inspector', 'poll', 'worker'},\n",
              " {'ant', 'colony', 'worker'},\n",
              " {'Bobcats', 'ear', 'head'},\n",
              " {'Birds', 'seed'},\n",
              " {'hand', 'pressure', 'tunnel', 'wrist'},\n",
              " {'Tires', 'friction'},\n",
              " {'Rooms', 'door'},\n",
              " {'Africa', 'Liberalism', 'answer', 'injustice', 'poverty'},\n",
              " {'Teratogens', 'birth', 'change', 'defect', 'mutagen'},\n",
              " {'bit', 'height', 'people', 'way'},\n",
              " {'pressure', 'quartz', 'resultant'},\n",
              " {'Blue', 'one', 'star'},\n",
              " {'Frogs', 'item', 'prey', 'viper'},\n",
              " {'activity', 'lake', 'nutrient', 'release', 'stream'},\n",
              " {'forest', 'leaf'},\n",
              " {'Flares', 'energy', 'field', 'sunspot'},\n",
              " {'Technology', 'product'},\n",
              " {'Women', 'teeth'},\n",
              " {'Birds', 'mechanism'},\n",
              " {'bulldog', 'shoulder'},\n",
              " {'distance', 'migration', 'place'},\n",
              " {'England', 'coroner', 'part', 'state', 'system'},\n",
              " {'Land', 'calciphiles', 'environment', 'limestone', 'snail'},\n",
              " {'Kidnappers', 'part', 'section'},\n",
              " {'day', 'embryo', 'nest', 'perch'},\n",
              " {'Acidity', 'factor', 'material', 'permanence'},\n",
              " {'community', 'disturb', 'habitat', 'plant'},\n",
              " {'Purgatory', 'state'},\n",
              " {'habitat', 'life', 'wreck'},\n",
              " {'attachment', 'building', 'land', 'property'},\n",
              " {'Blister', 'foliage'},\n",
              " {'insect', 'thrip'},\n",
              " {'Giraffes'},\n",
              " {'Science', 'ethic', 'politics'},\n",
              " {'Farms', 'problem'},\n",
              " {'brain', 'deprivation', 'hamster', 'increase', 'serotonin', 'turnover'},\n",
              " {'Objects', 'block', 'building', 'program'},\n",
              " {'retention', 'soil', 'water', 'watering'},\n",
              " {'Barites', 'pressure'},\n",
              " {'Versions', 'type'},\n",
              " {'cyclone', 'front', 'path'},\n",
              " {'Stress', 'life', 'part'},\n",
              " {'Ligands', 'ability', 'splitting'},\n",
              " {'Zoologists', 'biologist', 'specie', 'variety'},\n",
              " {'Doctors', 'disease', 'factor', 'heart', 'inactivity', 'obesity'},\n",
              " {'abatement', 'paint'},\n",
              " {'Attention', 'deficit'},\n",
              " {'tissue', 'vessel'},\n",
              " {'Waste', 'digestion'},\n",
              " {'Pollen', 'receptivity'},\n",
              " {'Spoons', 'bed'},\n",
              " {'Fabrications', 'falsehood'},\n",
              " {'Cephalopods', 'activity', 'feeding'},\n",
              " {'disease', 'lung', 'silicosis'},\n",
              " {'America', 'cause', 'death', 'error', 'injury'},\n",
              " {'people', 'pleasure', 'virus'},\n",
              " {'disaster', 'organism'},\n",
              " {'Intuition', 'experience', 'projection', 'reality'},\n",
              " {'language', 'sign', 'symbol', 'system', 'use'},\n",
              " {'disease', 'therapy'},\n",
              " {'Women', 'access', 'control', 'drive', 'property', 'vote', 'work'},\n",
              " {'Okapis', 'neck'},\n",
              " {'element', 'fertilizer'},\n",
              " {'Internets', 'old'},\n",
              " {'lynx', 'skull'},\n",
              " {'Important', 'community', 'factor'},\n",
              " {'gland', 'hormone'},\n",
              " {'Cellars', 'part', 'section'},\n",
              " {'age', 'function', 'rate'},\n",
              " {'Cigarette', 'cancer', 'cause', 'disease', 'heart', 'lung', 'smoking'},\n",
              " {'Osteoporosis', 'back', 'condition'},\n",
              " {'Ribosomes', 'cell', 'eukaryote', 'living', 'prokaryote'},\n",
              " {'Citrine', 'atmosphere', 'motivator'},\n",
              " {'chemical', 'energy'},\n",
              " {'correspondent', 'war'},\n",
              " {'Warblers', 'part', 'talon'},\n",
              " {'Cacomistles', 'tail'},\n",
              " {'Obesity', 'UK', 'country', 'problem'},\n",
              " {'Range', 'relationship'},\n",
              " {'bark', 'plate', 'tree'},\n",
              " {'Biologists', 'mitosis', 'pacemaker'},\n",
              " {'Spiders', 'egg'},\n",
              " {'Kidney', 'clump', 'stone', 'system'},\n",
              " {'cancer'},\n",
              " {'Antioxidants', 'cell', 'damage'},\n",
              " {'Growth', 'effect'},\n",
              " {'Children', 'grow', 'mature', 'rate'},\n",
              " {'Orchids'},\n",
              " {'damage', 'function'},\n",
              " {'Creatures', 'environment'},\n",
              " {'fruit', 'tangelo'},\n",
              " {'Memorization', 'cognition'},\n",
              " {'religion'},\n",
              " {'interpretation', 'literature', 'performance'},\n",
              " {'Nihilists', 'act', 'meaning', 'nothing'},\n",
              " {'Bacteria'},\n",
              " {'organism', 'reef', 'sponge'},\n",
              " {'Sporophytes', 'sporangium', 'sporocyte'},\n",
              " {'Marketers', 'business', 'consumer', 'people', 'world'},\n",
              " {'Mold', 'part', 'vacuole'},\n",
              " {'Yeast', 'yeast'},\n",
              " {'Mufflers', 'automobile', 'part'},\n",
              " {'Society', 'disability', 'people'},\n",
              " {'Noodles', 'cereal'},\n",
              " {'Pyrethrum', 'area', 'highland', 'smallholding'},\n",
              " {'Stars', 'distance', 'sky'},\n",
              " {'Input', 'output'},\n",
              " {'Buffoons', 'cell', 'part'},\n",
              " {'Dioxins', 'lab', 'substance', 'toxic'},\n",
              " {'Law', 'conception', 'heart', 'order', 'state'},\n",
              " {'Centipedes', 'eyesight'},\n",
              " {'development', 'monitoring', 'self-discipline'},\n",
              " {'animal', 'skeleton'},\n",
              " {'Roof', 'part', 'plate', 'tube'},\n",
              " {'Cilia', 'field', 'projection', 'unison', 'wave', 'wheat'},\n",
              " {'earthworm', 'substance'},\n",
              " {'D', 'Vitamin', 'body', 'exposure', 'sun'},\n",
              " {'Clubs', 'weapon'},\n",
              " {'Impaired', 'change', 'status'},\n",
              " {'Water', 'element', 'survival'},\n",
              " {'Poultry', 'population'},\n",
              " {'Soups', 'form', 'meal', 'part', 'starting'},\n",
              " {'Warblers', 'bird', 'summer'},\n",
              " {'Schemas', 'content', 'document', 'structure', 'tool'},\n",
              " {'ground', 'slippery', 'underfoot', 'weather'},\n",
              " {'Gays'},\n",
              " {'Principal', 'corpi', 'part'},\n",
              " {'beluga', 'cod', 'eat'},\n",
              " {'idea', 'mensuration', 'part'},\n",
              " {'climate'},\n",
              " {'bush', 'inhabit', 'lizard'},\n",
              " {'Complexity', 'energy', 'flow', 'grows'},\n",
              " {'Earth', 'Space', 'gravity', 'influence', 'living', 'moon', 'traveler'},\n",
              " {'Flamingos', 'shrimp'},\n",
              " {'Blockage', 'cancer'},\n",
              " {'Bananas', 'plant'},\n",
              " {'Abstraction', 'development', 'process', 'progress'},\n",
              " {'biopsy', 'bra', 'night', 'woman'},\n",
              " {'Strychnine', 'product'},\n",
              " {'Women', 'body', 'layer', 'skin', 'temperature'},\n",
              " {'interpretation', 'language', 'ranking', 'structure'},\n",
              " {'Meat', 'diet', 'importance'},\n",
              " {'child'},\n",
              " {'coat', 'fox'},\n",
              " {'people', 'religion', 'science'},\n",
              " {'Tenrecs', 'cell', 'part'},\n",
              " {'isa', 'organism'},\n",
              " {'car', 'window'},\n",
              " {'Idolatry', 'image'},\n",
              " {'Men', 'center', 'gravity', 'woman'},\n",
              " {'Raw', 'infection', 'milk', 'source'},\n",
              " {'Ethernet', 'Internet', 'mean'},\n",
              " {'Light', 'illumination'},\n",
              " {'consumes', 'food', 'yeast'},\n",
              " {'Fallings', 'movement'},\n",
              " {'Caffeine', 'antagonist'},\n",
              " {'Mankind', 'body', 'soul', 'spirit'},\n",
              " {'dog', 'nail'},\n",
              " {'Vowels', 'sound', 'vowel'},\n",
              " {'Polyps', 'colon', 'growth', 'rectum'},\n",
              " {'Music', 'emotion', 'essence', 'person'},\n",
              " {'animal', 'predatory'},\n",
              " {'Group', 'friendship', 'sex'},\n",
              " {'Acid', 'item'},\n",
              " {'compassion', 'love', 'religion'},\n",
              " {'elephant', 'mammal'},\n",
              " {'Starchy', 'diet', 'effect', 'food', 'water'},\n",
              " {'Coconut', 'food', 'grocery', 'health', 'milk', 'store', 'supermarket'},\n",
              " {'alcohol', 'beer'},\n",
              " {'area', 'upland', 'wetland'},\n",
              " {'People', 'drug', 'hypertension', 'life'},\n",
              " {'Darkness', 'light', 'shadow', 'source', 'sun'},\n",
              " {'Judges', 'proof'},\n",
              " {'balance', 'disturbance', 'lesion'},\n",
              " {'Economists', 'producer', 'profit'},\n",
              " {'Flax', 'seed', 'source'},\n",
              " {'body', 'cancer', 'part', 'tumor'},\n",
              " {'Bats', 'dining', 'evening', 'insect', 'weight'},\n",
              " {'animal', 'horse'},\n",
              " {'fish', 'mate'},\n",
              " {'Cancer', 'disfiguring', 'surgery'},\n",
              " {'Calves', 'adult', 'cattle', 'contamination'},\n",
              " {'Ectopic', 'pregnancy', 'uterus'},\n",
              " {'Sex', 'energy', 'orgasm', 'tension'},\n",
              " {'Golden', 'knowledge', 'star', 'symbolizes'},\n",
              " {'citizen', 'immigrant', 'responsibility', 'share'},\n",
              " {'ant', 'jaw'},\n",
              " {'Libertarians', 'action', 'equality', 'freedom', 'government', 'order'},\n",
              " {'Autumn', 'mark', 'transition'},\n",
              " {'Toads', 'eat', 'insect'},\n",
              " {'crop', 'grasshopper'},\n",
              " {'Steam', 'boiler', 'process', 'steam', 'system'},\n",
              " {'carp', 'grass', 'state', 'use'},\n",
              " {'Ribavirin', 'disease', 'drug', 'number'},\n",
              " {'Radons', 'gas'},\n",
              " {'jackrabbit', 'seed'},\n",
              " {'country', 'land'},\n",
              " {'Snag', 'age', 'creation', 'disease', 'drought', 'tree', 'wildfire'},\n",
              " {'Bracts', 'husk'},\n",
              " {'camera', 'microphone', 'sensor', 'technology', 'wearable'},\n",
              " {'Chemicals', 'air'},\n",
              " {'Phenomena', 'degree'},\n",
              " {'Algae', 'bloom', 'coral', 'reef'},\n",
              " {\"'mouths\", 'system', 'tree'},\n",
              " {'blood', 'carnivore'},\n",
              " {'alp', 'mountainside', 'part'},\n",
              " {'Radio', 'medium', 'member', 'order', 'talent', 'team'},\n",
              " {'board', 'director'},\n",
              " {'Flower', 'colour', 'pastel'},\n",
              " {'Cows', 'eat', 'grass'},\n",
              " {'bettong', 'scent'},\n",
              " {'Plumbers', 'epoxy'},\n",
              " {'Warblers', 'plumage'},\n",
              " {'Managers', 'attention'},\n",
              " {'Risotto', 'class', 'consistency', 'dish', 'rice'},\n",
              " {'capitalist', 'plunger', 'venture'},\n",
              " {'Braille', 'English'},\n",
              " {'baboon', 'body', 'coat'},\n",
              " {'Phosphoric', 'acid', 'fertilizer', 'production'},\n",
              " {'Brown', 'beak-first', 'fish', 'hope', 'pelican'},\n",
              " {'Food', 'allergy', 'life'},\n",
              " {'insect', 'life'},\n",
              " {'Vets', 'house'},\n",
              " {'Sex', 'idea', 'product', 'show'},\n",
              " {'Cheetahs', 'eat', 'gazelle'},\n",
              " {'humanity', 'science', 'spectrum'},\n",
              " {'Rice', 'crop', 'food', 'gene', 'set', 'share', 'world'},\n",
              " {'Detection', 'result', 'yield'},\n",
              " {'plumage', 'swan', 'tundra'},\n",
              " {'Blood', 'collect', 'pressure', 'skull'},\n",
              " {'Anteaters', 'animal', 'mating', 'season'},\n",
              " {'Examples', 'brain', 'gland', 'pineal', 'pinopsin'},\n",
              " {'arm', 'lever', 'rocker'},\n",
              " {'council', 'district', 'government', 'town'},\n",
              " {'home', 'plankton', 'polyp', 'stony', 'tentacle'},\n",
              " {'Echidnas', 'access', 'claw', 'log', 'nest', 'prey'},\n",
              " {'White', 'color', 'light', 'rainbow'},\n",
              " {'Fathers', 'chromosome', 'daughter', 'number', 'son'},\n",
              " {'caterpillar', 'crotch', 'tent', 'tree'},\n",
              " {'Shrubs', 'cover', 'food', 'source', 'wildlife'},\n",
              " {'Open', 'code', 'computer', 'source'},\n",
              " {'health', 'substance'},\n",
              " {'Cocaine', 'States', 'United', 'drug', 'problem', 'use'},\n",
              " {'hour', 'pain'},\n",
              " {'afternoon', 'hour', 'people', 'pottery', 'sun'},\n",
              " {'Cannibalism', 'country'},\n",
              " {'Sugars', 'carbohydrate', 'unit'},\n",
              " {'Insects', 'group', 'organism', 'planet'},\n",
              " {'Toleration', 'differentiation', 'fact', 'solution'},\n",
              " {'enemy', 'honeybee'},\n",
              " {'Burn', 'carbon', 'dioxide', 'gasoline'},\n",
              " {'Sumatran', 'subspecies', 'tiger'},\n",
              " {'Bagpipes', 'aerophones', 'music'},\n",
              " {'culture', 'meaning', 'society', 'symbol'},\n",
              " {'Dough', 'property'},\n",
              " {'Smallmouth', 'fish'},\n",
              " {'Leaves'},\n",
              " {'cell', 'composition', 'inclusion', 'plant', 'shape'},\n",
              " {'Natural', 'habitat', 'survival'},\n",
              " {'Aerosols', 'atmosphere', 'enter'},\n",
              " {'C', 'cytidine', 'group', 'posn'},\n",
              " {'Enzymes', 'chemical', 'group', 'part'},\n",
              " {'Heat', 'energy', 'pressure'},\n",
              " {'color', 'surface', 'tile'},\n",
              " {'dinner', 'tea'},\n",
              " {'forest', 'mammal'},\n",
              " {'Coinage', 'standard'},\n",
              " {'Peppers', 'eggplant', 'tolerance', 'tomato'},\n",
              " {'cancer', 'risk', 'study'},\n",
              " {'ash', 'dust', 'flow', 'gas', 'mixture'},\n",
              " {'Lichens', 'air', 'pollution'},\n",
              " {'energy', 'focus', 'symbol', 'tool'},\n",
              " {'Planets', 'good', 'source', 'supply'},\n",
              " {'feeding', 'mosquito', 'mouthpiece', 'piercing', 'proboscis'},\n",
              " {'diet', 'family'},\n",
              " {'pollution', 'problem'},\n",
              " {'Actor', 'performer'},\n",
              " {'Radiocarbon', 'age', 'date', 'earth', 'rock', 'scientist'},\n",
              " {'Rats', 'bond', 'owner'},\n",
              " {'human', 'instrument', 'interactive', 'tool'},\n",
              " {'Feldspars', 'blue', 'color', 'pink', 'shade'},\n",
              " {'Diets', 'grain'},\n",
              " {'Poverty', 'drug', 'reason'},\n",
              " {'difference', 'issue', 'power', 'responsibility'},\n",
              " {'wiper'},\n",
              " {'plant', 'protection'},\n",
              " {'Caribou', 'hoof', 'paddle', 'swimmer'},\n",
              " {'Scientific', 'mind', 'research', 'senility'},\n",
              " {'family', 'plant'},\n",
              " {'depression', 'emotion', 'people'},\n",
              " {'Primates', 'placental'},\n",
              " {'burrow', 'mammal'},\n",
              " {'Bytes', 'computer', 'information', 'unit'},\n",
              " {'Robots', 'mind'},\n",
              " {'Pressure', 'altimeter', 'barometer', 'pressure', 'scale'},\n",
              " {'Plants', 'leaf'},\n",
              " {'Compressions', 'matter'},\n",
              " {'Asian', 'isa'},\n",
              " {'animal', 'plant'},\n",
              " {'heat', 'humidity', 'orchid'},\n",
              " {'Potholes', 'street'},\n",
              " {'Nicotine', 'feeling', 'gum', 'hunger'},\n",
              " {'Scientists', 'amount', 'animal', 'carbon', 'production', 'system', 'term'},\n",
              " {'building', 'crack', 'paving', 'plumbing', 'pool', 'root', 'slab'},\n",
              " {'compost', 'gardening', 'humus', 'soil'},\n",
              " {'Varicella', 'encephalitis', 'infection', 'pneumonia'},\n",
              " {'men', 'stream', 'urine'},\n",
              " {'Vinegars', 'alcohol', 'level'},\n",
              " {'Coyotes', 'chance', 'percent'},\n",
              " {'Phloem', 'part', 'section'},\n",
              " {'Gums', 'plaque', 'pocket', 'teeth'},\n",
              " {'Safety', 'guarantee', 'property', 'system'},\n",
              " {'Warlocks', 'bolt', 'lightning'},\n",
              " {'finger', 'index', 'men'},\n",
              " {'Black', 'assistance', 'attempt', 'demon', 'magic', 'result', 'spirit'},\n",
              " {'Plants', 'crop'},\n",
              " {'Hunger', 'illness', 'kid', 'lifetime', 'malnutrition', 'risk'},\n",
              " {'Weeds', 'harvesting', 'problem', 'yield'},\n",
              " {'Privacy', 'citizen'},\n",
              " {'Egg', 'contains', 'life', 'seed'},\n",
              " {'Japan', 'world', 'zone'},\n",
              " {'Oligopolies', 'market'},\n",
              " {'Science', 'expression', 'hidden', 'mathematics', 'reality'},\n",
              " {'Spores', 'plant', 'seed'},\n",
              " {'Water', 'material', 'vapor'},\n",
              " {'Words', 'time'},\n",
              " {'Fuel', 'byproduct', 'cell', 'hydrogen', 'power', 'vehicle', 'water'},\n",
              " {'Cataracts', 'dog'},\n",
              " {'Haven', 'New', 'metropolis', 'museum', 'site', 'theatre', 'thriving'},\n",
              " {'Warm', 'air'},\n",
              " {'coast', 'whale'},\n",
              " {'depression', 'deprivation', 'symptom'},\n",
              " {'blood', 'medication', 'pressure'},\n",
              " {'Rhizomes', 'plant'},\n",
              " {'donor', 'gift', 'group', 'individual'},\n",
              " {'Sweetness', 'taste'},\n",
              " {'Authors', 'hesitation'},\n",
              " {'Sinkholes', 'building', 'news', 'road', 'truck'},\n",
              " {'Mosquitoes', 'animal', 'bird', 'pas', 'people', 'virus'},\n",
              " {'Owls', 'home'},\n",
              " {'Explanations', 'effect', 'greenhouse'},\n",
              " {'Education', 'belief', 'diversity', 'experience', 'people'},\n",
              " {'America', 'North', 'Prostate', 'cancer', 'men'},\n",
              " {'ablation',\n",
              "  'dorsal',\n",
              "  'interneuron',\n",
              "  'plate',\n",
              "  'reveals',\n",
              "  'roof',\n",
              "  'specification'},\n",
              " {'Hundreds', 'carbon', 'monoxide', 'poisoning', 'year'},\n",
              " {'Darkness', 'center', 'moonlight', 'soul', 'water'},\n",
              " {'Timber', 'area', 'rattlesnake'},\n",
              " {'creature', 'gill'},\n",
              " {'Wood', 'filter', 'vibration'},\n",
              " {'Blood', 'donor', 'life', 'walk'},\n",
              " {'Caledonia', 'Europe', 'part'},\n",
              " {'basis', 'disease'},\n",
              " {'Materials', 'effect'},\n",
              " {'Members', 'copy'},\n",
              " {'Velocity', 'conductivity', 'constant'},\n",
              " {'Events', 'circumstance'},\n",
              " {'Aggregate', 'supply', 'term'},\n",
              " {'Night', 'flower', 'fragrance', 'jessamine', 'night'},\n",
              " {'Arrows', 'fly'},\n",
              " {'celebrity', 'model', 'parent', 'role'},\n",
              " {'elephant', 'parent'},\n",
              " {'love', 'someone', 'song'},\n",
              " {'brand', 'lube', 'reaction', 'woman'},\n",
              " {'income', 'profit', 'tax', 'wage'},\n",
              " {'Manatees', 'water'},\n",
              " {'season'},\n",
              " {'Stages', 'month'},\n",
              " {'Gopher', 'bulldozer', 'tortoise'},\n",
              " {'Privatization', 'banking', 'performance', 'sector', 'step', 'towards'},\n",
              " {'Chitons', 'algae', 'particle', 'radula', 'rock', 'surface'},\n",
              " {'monolith', 'stone'},\n",
              " {'Hyaline', 'cartilage'},\n",
              " {'miscarriage'},\n",
              " {'orangutan', 'place'},\n",
              " {'Carpenter', 'ant', 'gallery', 'noise', 'scraping', 'wood'},\n",
              " {'Genes', 'information', 'trait'},\n",
              " {'animal', 'claw'},\n",
              " {'culture',\n",
              "  'group',\n",
              "  'minority',\n",
              "  'need',\n",
              "  'organization',\n",
              "  'program',\n",
              "  'university'},\n",
              " {'Swans', 'predator'},\n",
              " {'Guinea', 'symbol', 'worm'},\n",
              " {'Love', 'breath', 'life'},\n",
              " {'Insurance', 'company', 'hand', 'profit', 'stockholder', 'try'},\n",
              " {'Problems', 'fertility'},\n",
              " {'Electroless',\n",
              "  'board',\n",
              "  'circuit',\n",
              "  'copper',\n",
              "  'plating',\n",
              "  'production',\n",
              "  'today'},\n",
              " {'cervix', 'expert'},\n",
              " {'matter', 'slug'},\n",
              " {'animal', 'radiation'},\n",
              " {'diet', 'nutrient'},\n",
              " {'color', 'duck'},\n",
              " {'Cactus', 'eye', 'pygmy'},\n",
              " {'Incontinence', 'condition', 'symptom', 'variety'},\n",
              " {'row', 'tiff'},\n",
              " {'Hemorrhoids', 'cancer', 'hemorrhoid'},\n",
              " {'process', 'variation'},\n",
              " {'Weeds', 'crop', 'feed', 'food', 'quality', 'resource', 'yield'},\n",
              " {'citizen'},\n",
              " {'Mediation', 'experience'},\n",
              " {'Beavers', 'alder', 'building', 'pine', 'popple', 'thicket'},\n",
              " {'child', 'parent'},\n",
              " {'Earth', 'system'},\n",
              " {'T', 'difference', 'location', 'temperature'},\n",
              " {'host', 'specie'},\n",
              " {'Stifles', 'hind', 'leg', 'part'},\n",
              " {'Cochineals'},\n",
              " {'bird', 'box'},\n",
              " {'Nothofagus', 'specie', 'tree'},\n",
              " {'Palatability', 'tannin'},\n",
              " {'Goshawks', 'bird', 'buzzard', 'kestrel', 'kite', 'prey', 'variety'},\n",
              " {'note', 'pitch'},\n",
              " ...]"
            ]
          },
          "metadata": {},
          "execution_count": 85
        }
      ]
    },
    {
      "cell_type": "code",
      "source": [
        "type(concepts_GENERICSENTENCE)"
      ],
      "metadata": {
        "colab": {
          "base_uri": "https://localhost:8080/"
        },
        "id": "gPTbtzvhmT_u",
        "outputId": "2bcd004a-5105-4fcd-cee8-9375d1f4021b"
      },
      "execution_count": 86,
      "outputs": [
        {
          "output_type": "execute_result",
          "data": {
            "text/plain": [
              "list"
            ]
          },
          "metadata": {},
          "execution_count": 86
        }
      ]
    },
    {
      "cell_type": "code",
      "source": [
        "facts_GENERICSENTENCE = facts_GENERICSENTENCE.tolist()"
      ],
      "metadata": {
        "id": "AjeU_KwT0miU"
      },
      "execution_count": 110,
      "outputs": []
    },
    {
      "cell_type": "code",
      "source": [
        "type(facts_GENERICSENTENCE)"
      ],
      "metadata": {
        "colab": {
          "base_uri": "https://localhost:8080/"
        },
        "id": "WO6T0aZX0caP",
        "outputId": "f8c77acc-66d2-4979-cac9-d0163fe6033d"
      },
      "execution_count": 111,
      "outputs": [
        {
          "output_type": "execute_result",
          "data": {
            "text/plain": [
              "list"
            ]
          },
          "metadata": {},
          "execution_count": 111
        }
      ]
    },
    {
      "cell_type": "markdown",
      "source": [
        "#### 把concepts_GENERICSENTENCE先存起來"
      ],
      "metadata": {
        "id": "gV8fC0EimoAa"
      }
    },
    {
      "cell_type": "code",
      "source": [
        "import pickle\n",
        "\n",
        "\n",
        "# Open a file in binary mode\n",
        "with open('concepts_GENERICSENTENCE_how_many_sentence_we_use.pkl', 'wb') as f:\n",
        "    # Use pickle to dump the list to the file\n",
        "    pickle.dump(concepts_GENERICSENTENCE, f)\n"
      ],
      "metadata": {
        "id": "p_RXote4GFz_"
      },
      "execution_count": 87,
      "outputs": []
    },
    {
      "cell_type": "code",
      "source": [
        "\"\"\"\n",
        "import pickle\n",
        "\n",
        "# Open the file in binary mode\n",
        "with open('concepts_GENERICSENTENCE_how_many_sentence_we_use.pkl', 'rb') as f:\n",
        "    # Use pickle to load the list from the file\n",
        "    concepts_GENERICSENTENCE = pickle.load(f)\n",
        "\n",
        "# The list can now be used in the program\n",
        "print(concepts_GENERICSENTENCE)\n",
        "\"\"\""
      ],
      "metadata": {
        "colab": {
          "base_uri": "https://localhost:8080/",
          "height": 87
        },
        "id": "eDze3ijcmvTd",
        "outputId": "1edf6fbe-0892-4fbb-af96-89d348e8fd22"
      },
      "execution_count": 88,
      "outputs": [
        {
          "output_type": "execute_result",
          "data": {
            "text/plain": [
              "\"\\nimport pickle\\n\\n# Open the file in binary mode\\nwith open('concepts_GENERICSENTENCE_how_many_sentence_we_use.pkl', 'rb') as f:\\n    # Use pickle to load the list from the file\\n    concepts_GENERICSENTENCE = pickle.load(f)\\n\\n# The list can now be used in the program\\nprint(concepts_GENERICSENTENCE)\\n\""
            ],
            "application/vnd.google.colaboratory.intrinsic+json": {
              "type": "string"
            }
          },
          "metadata": {},
          "execution_count": 88
        }
      ]
    },
    {
      "cell_type": "markdown",
      "source": [
        "### 利用concepts建立fact to fact的關係"
      ],
      "metadata": {
        "id": "yZyD6n23o1Co"
      }
    },
    {
      "cell_type": "code",
      "source": [
        "import numpy as np\n",
        "from scipy.sparse import lil_matrix"
      ],
      "metadata": {
        "id": "cmrGkDOspuKc"
      },
      "execution_count": 114,
      "outputs": []
    },
    {
      "cell_type": "code",
      "source": [
        "# 創建一個空的稀疏矩陣\n",
        "num_facts = len(facts_GENERICSENTENCE)\n",
        "S = lil_matrix((num_facts, num_facts), dtype=bool)"
      ],
      "metadata": {
        "id": "arVpjnetp5P6"
      },
      "execution_count": 115,
      "outputs": []
    },
    {
      "cell_type": "code",
      "source": [
        "print(len(facts_GENERICSENTENCE))\n",
        "print(num_facts)\n",
        "print(type(S))"
      ],
      "metadata": {
        "colab": {
          "base_uri": "https://localhost:8080/"
        },
        "id": "AN54jI_Dq0Ki",
        "outputId": "c5301e4d-0c83-4525-bb58-645e2653374b"
      },
      "execution_count": 116,
      "outputs": [
        {
          "output_type": "stream",
          "name": "stdout",
          "text": [
            "10000\n",
            "10000\n",
            "<class 'scipy.sparse._lil.lil_matrix'>\n"
          ]
        }
      ]
    },
    {
      "cell_type": "markdown",
      "source": [
        "**連接規則**\n",
        "if we can create a link fi → fj (i.e.,\n",
        "Sij = 1) as follows:\n",
        "- i != j\n",
        "- |I| >= 1 \n",
        "  - where I is the set of concepts that are mentioned in both fi and fj . Note that we remove the most frequent 100 concepts (e.g.,\n",
        "human) from I.\n",
        "- |I| < |fi|\n",
        "  - We do not create links when all\n",
        "concepts in fi are mentioned in fj , which are\n",
        "usually redundant.\n",
        "- |fj | − |I| >= 2. \n",
        "  - We create links only when there are more than two unseen concepts in fj which are not in fi"
      ],
      "metadata": {
        "id": "uHtF6ZfCs3Ec"
      }
    },
    {
      "cell_type": "markdown",
      "source": [
        "#### create a list with most frequent 100 concepts"
      ],
      "metadata": {
        "id": "6AkaHZl-wbxU"
      }
    },
    {
      "cell_type": "code",
      "source": [
        "how_many_cocept_too_common = 50"
      ],
      "metadata": {
        "id": "lTg1zKGVwgrb"
      },
      "execution_count": 91,
      "outputs": []
    },
    {
      "cell_type": "code",
      "source": [
        "# create a list with most frequent 100 concepts\n",
        "from collections import defaultdict\n",
        "from nltk.tokenize import word_tokenize"
      ],
      "metadata": {
        "id": "qlzBQRPiuOsJ"
      },
      "execution_count": 92,
      "outputs": []
    },
    {
      "cell_type": "code",
      "source": [
        "# Step 1: Create a dictionary to store the frequency of each concept\n",
        "freq_dict = defaultdict(int)\n",
        "\n",
        "# Step 2-3: Tokenize each sentence and count the frequency of each concept\n",
        "for sentence in concepts_GENERICSENTENCE:\n",
        "  for concept in sentence:\n",
        "      freq_dict[concept] += 1\n"
      ],
      "metadata": {
        "id": "zwm9qbxIuegE"
      },
      "execution_count": 93,
      "outputs": []
    },
    {
      "cell_type": "code",
      "source": [
        "# test code\n",
        "first_10_items = list(freq_dict.items())[:10]\n",
        "\n",
        "print(first_10_items)"
      ],
      "metadata": {
        "colab": {
          "base_uri": "https://localhost:8080/"
        },
        "id": "3hXWrUE4vO-z",
        "outputId": "c1160527-9a7d-47aa-da7d-1613d67499a2"
      },
      "execution_count": 94,
      "outputs": [
        {
          "output_type": "stream",
          "name": "stdout",
          "text": [
            "[('Hawks', 4), ('year', 76), ('Companies', 9), ('candidate', 2), ('bring', 1), ('meal', 15), ('owl', 4), ('cancer', 71), ('nonsmoker', 1), ('cause', 65)]\n"
          ]
        }
      ]
    },
    {
      "cell_type": "code",
      "source": [
        "# Step 4: Sort the dictionary by value in descending order\n",
        "sorted_freq_dict = sorted(freq_dict.items(), key=lambda x: x[1], reverse=True)"
      ],
      "metadata": {
        "id": "PxixHeH0vI9d"
      },
      "execution_count": 95,
      "outputs": []
    },
    {
      "cell_type": "code",
      "source": [
        "# Step 5: Extract the top 100 concepts\n",
        "most_common_concepts = [x[0] for x in sorted_freq_dict[:how_many_cocept_too_common]]"
      ],
      "metadata": {
        "id": "u7g7MuN6vh5C"
      },
      "execution_count": 98,
      "outputs": []
    },
    {
      "cell_type": "code",
      "source": [
        "most_common_concepts"
      ],
      "metadata": {
        "colab": {
          "base_uri": "https://localhost:8080/"
        },
        "id": "lJTWdPKwvwBk",
        "outputId": "7a4ebc37-5199-4b5c-d8d5-1a83970275ac"
      },
      "execution_count": 99,
      "outputs": [
        {
          "output_type": "execute_result",
          "data": {
            "text/plain": [
              "['part',\n",
              " 'people',\n",
              " 'water',\n",
              " 'plant',\n",
              " 'animal',\n",
              " 'food',\n",
              " 'life',\n",
              " 'cell',\n",
              " 'body',\n",
              " 'child',\n",
              " 'energy',\n",
              " 'time',\n",
              " 'disease',\n",
              " 'system',\n",
              " 'woman',\n",
              " 'way',\n",
              " 'form',\n",
              " 'area',\n",
              " 'tree',\n",
              " 'world',\n",
              " 'problem',\n",
              " 'year',\n",
              " 'growth',\n",
              " 'cancer',\n",
              " 'effect',\n",
              " 'soil',\n",
              " 'specie',\n",
              " 'process',\n",
              " 'bird',\n",
              " 'cause',\n",
              " 'source',\n",
              " 'color',\n",
              " 'health',\n",
              " 'air',\n",
              " 'insect',\n",
              " 'material',\n",
              " 'Water',\n",
              " 'number',\n",
              " 'group',\n",
              " 'People',\n",
              " 'family',\n",
              " 'leaf',\n",
              " 'development',\n",
              " 'seed',\n",
              " 'death',\n",
              " 'environment',\n",
              " 'thing',\n",
              " 'blood',\n",
              " 'organism',\n",
              " 'light']"
            ]
          },
          "metadata": {},
          "execution_count": 99
        }
      ]
    },
    {
      "cell_type": "markdown",
      "source": [
        "#### connect facts -> Sparse Fact-to-Fact Index S"
      ],
      "metadata": {
        "id": "xrX59EJZy-hJ"
      }
    },
    {
      "cell_type": "code",
      "source": [
        "# 定義連接規則\n",
        "def connection_rules(concepts1, concepts2):\n",
        "    common_concepts = concepts1.intersection(concepts2)\n",
        "    common_concepts.difference_update(most_common_concepts)\n",
        "    new_concepts = concepts2 - concepts1\n",
        "    if(len(common_concepts) <= 0):\n",
        "      return False\n",
        "    elif(len(new_concepts) < 2):\n",
        "      return False\n",
        "    return len(common_concepts) > 0 and len(new_concepts) >= 2"
      ],
      "metadata": {
        "id": "eqUSljYYqokT"
      },
      "execution_count": 100,
      "outputs": []
    },
    {
      "cell_type": "code",
      "source": [
        "# 對所有事實建立稀疏索引\n",
        "for i in range(len(facts_GENERICSENTENCE)):\n",
        "    for j in range(i+1, len(facts_GENERICSENTENCE)):\n",
        "        if connection_rules(concepts_GENERICSENTENCE[i], concepts_GENERICSENTENCE[j]):\n",
        "            S[i, j] = True\n",
        "            S[j, i] = True  # 因為S是對稱矩陣，所以需要同時更新對稱元素"
      ],
      "metadata": {
        "id": "CP7DwVrSzCfl"
      },
      "execution_count": 117,
      "outputs": []
    },
    {
      "cell_type": "markdown",
      "source": [
        "##### 存起來"
      ],
      "metadata": {
        "id": "5ykgrlCL2pb3"
      }
    },
    {
      "cell_type": "code",
      "source": [
        "from scipy.sparse import save_npz\n",
        "\n",
        "# 存成 .npz 檔案\n",
        "saving_usage_S = S.tocsr()\n",
        "save_npz('S.npz', saving_usage_S)\n"
      ],
      "metadata": {
        "id": "3Ub5f8b82Dt_"
      },
      "execution_count": 119,
      "outputs": []
    },
    {
      "cell_type": "code",
      "source": [
        "#from scipy.sparse import load_npz\n",
        "\n",
        "#load_out_S = load_npz('S.npz')\n"
      ],
      "metadata": {
        "id": "syD2HSdk2zbM"
      },
      "execution_count": null,
      "outputs": []
    },
    {
      "cell_type": "markdown",
      "source": [
        "## sparse retrieval"
      ],
      "metadata": {
        "id": "GvvKBgElB71k"
      }
    },
    {
      "cell_type": "code",
      "source": [
        "def fact_to_concept(fact):\n",
        "  tokens = nltk.word_tokenize(fact)\n",
        "  #print(tokens)\n",
        "  # perform part-of-speech tagging to identify nouns and noun phrases\n",
        "  pos_tags = nltk.pos_tag(tokens)\n",
        "  #print(pos_tags)\n",
        "  concepts = set()\n",
        "  for i in range(len(pos_tags)):\n",
        "    if pos_tags[i][1].startswith(\"NN\"):  # check if the word is a noun\n",
        "      # 使用lemmatizer將單數名詞還原為原形\n",
        "      lemma = lemmatizer.lemmatize(pos_tags[i][0], pos=pos_tags[i][1][0].lower())\n",
        "      concepts.add(lemma)\n",
        "  return concepts"
      ],
      "metadata": {
        "id": "4ZJumz0a6HbR"
      },
      "execution_count": 122,
      "outputs": []
    },
    {
      "cell_type": "code",
      "source": [
        "def sparse_retrieval(question, kb, concept2idx, S):\n",
        "    # 将问题分解为概念列表\n",
        "    concepts = fact_to_concept(question)\n",
        "    concept_idxs = [concept2idx[c] for c in concepts if c in concept2idx]\n",
        "    \n",
        "    # 对于每个包含至少一个概念的事实，计算与问题的相似度得分\n",
        "    scores = np.zeros(len(kb))\n",
        "    for i, row in kb.iterrows():\n",
        "        # 跳过缺失的事实\n",
        "        if pd.isnull(row['GENERIC SENTENCE']):\n",
        "            continue\n",
        "        # 计算事实和问题之间的共同概念数量\n",
        "        fact_concepts = set(row['GENERIC SENTENCE'].split(' '))\n",
        "        common_concepts = fact_concepts.intersection(set(concepts))\n",
        "        # 如果事实中包含至少一个概念，则计算其与问题的相似度得分\n",
        "        if len(common_concepts) > 0:\n",
        "            j = concept_idxs[0]  # 取第一个概念的索引作为行索引\n",
        "            k = concept2idx[row['TERM']]  # 取事实中的TERM概念的索引作为列索引\n",
        "            # 在稀疏张量 S 中查找行索引 j 和列索引 k，如果存在则将得分加入相似度得分\n",
        "            if j in S and k in S[j].indices:\n",
        "                scores[i] = S[j][k]\n",
        "    \n",
        "    # 根据得分从高到低对事实进行排序并返回\n",
        "    sorted_indices = np.argsort(scores)[::-1]\n",
        "    return kb.iloc[sorted_indices]"
      ],
      "metadata": {
        "id": "jB30C4KXBOwM"
      },
      "execution_count": null,
      "outputs": []
    },
    {
      "cell_type": "code",
      "source": [
        "print(df.columns)"
      ],
      "metadata": {
        "colab": {
          "base_uri": "https://localhost:8080/"
        },
        "id": "t5R4WG8YDk-T",
        "outputId": "ab256bb4-2f30-4a80-e60d-f1d47b484ec2"
      },
      "execution_count": null,
      "outputs": [
        {
          "output_type": "stream",
          "name": "stdout",
          "text": [
            "Index(['SOURCE', 'TERM', 'QUANTIFIER', 'GENERIC SENTENCE', 'SCORE'], dtype='object')\n"
          ]
        }
      ]
    },
    {
      "cell_type": "code",
      "source": [
        "sparse_retrieval(\"what can help alleviate global warming?\",df,concept2idx,S)"
      ],
      "metadata": {
        "colab": {
          "base_uri": "https://localhost:8080/",
          "height": 382
        },
        "id": "yAadsyHECHbb",
        "outputId": "b7dcacc1-fb12-4ed4-ab71-956e545c2f67"
      },
      "execution_count": null,
      "outputs": [
        {
          "output_type": "error",
          "ename": "ValueError",
          "evalue": "ignored",
          "traceback": [
            "\u001b[0;31m---------------------------------------------------------------------------\u001b[0m",
            "\u001b[0;31mValueError\u001b[0m                                Traceback (most recent call last)",
            "\u001b[0;32m<ipython-input-33-7aaf30e7f8f0>\u001b[0m in \u001b[0;36m<cell line: 1>\u001b[0;34m()\u001b[0m\n\u001b[0;32m----> 1\u001b[0;31m \u001b[0msparse_retrieval\u001b[0m\u001b[0;34m(\u001b[0m\u001b[0;34m\"what can help alleviate global warming?\"\u001b[0m\u001b[0;34m,\u001b[0m\u001b[0mdf\u001b[0m\u001b[0;34m,\u001b[0m\u001b[0mconcept2idx\u001b[0m\u001b[0;34m,\u001b[0m\u001b[0mS\u001b[0m\u001b[0;34m)\u001b[0m\u001b[0;34m\u001b[0m\u001b[0;34m\u001b[0m\u001b[0m\n\u001b[0m",
            "\u001b[0;32m<ipython-input-32-02d61b79110a>\u001b[0m in \u001b[0;36msparse_retrieval\u001b[0;34m(question, kb, concept2idx, S)\u001b[0m\n\u001b[1;32m     18\u001b[0m             \u001b[0mk\u001b[0m \u001b[0;34m=\u001b[0m \u001b[0mconcept2idx\u001b[0m\u001b[0;34m[\u001b[0m\u001b[0mrow\u001b[0m\u001b[0;34m[\u001b[0m\u001b[0;34m'TERM'\u001b[0m\u001b[0;34m]\u001b[0m\u001b[0;34m]\u001b[0m  \u001b[0;31m# 取事实中的TERM概念的索引作为列索引\u001b[0m\u001b[0;34m\u001b[0m\u001b[0;34m\u001b[0m\u001b[0m\n\u001b[1;32m     19\u001b[0m             \u001b[0;31m# 在稀疏张量 S 中查找行索引 j 和列索引 k，如果存在则将得分加入相似度得分\u001b[0m\u001b[0;34m\u001b[0m\u001b[0;34m\u001b[0m\u001b[0m\n\u001b[0;32m---> 20\u001b[0;31m             \u001b[0;32mif\u001b[0m \u001b[0mj\u001b[0m \u001b[0;32min\u001b[0m \u001b[0mS\u001b[0m \u001b[0;32mand\u001b[0m \u001b[0mk\u001b[0m \u001b[0;32min\u001b[0m \u001b[0mS\u001b[0m\u001b[0;34m[\u001b[0m\u001b[0mj\u001b[0m\u001b[0;34m]\u001b[0m\u001b[0;34m.\u001b[0m\u001b[0mindices\u001b[0m\u001b[0;34m:\u001b[0m\u001b[0;34m\u001b[0m\u001b[0;34m\u001b[0m\u001b[0m\n\u001b[0m\u001b[1;32m     21\u001b[0m                 \u001b[0mscores\u001b[0m\u001b[0;34m[\u001b[0m\u001b[0mi\u001b[0m\u001b[0;34m]\u001b[0m \u001b[0;34m=\u001b[0m \u001b[0mS\u001b[0m\u001b[0;34m[\u001b[0m\u001b[0mj\u001b[0m\u001b[0;34m]\u001b[0m\u001b[0;34m[\u001b[0m\u001b[0mk\u001b[0m\u001b[0;34m]\u001b[0m\u001b[0;34m\u001b[0m\u001b[0;34m\u001b[0m\u001b[0m\n\u001b[1;32m     22\u001b[0m \u001b[0;34m\u001b[0m\u001b[0m\n",
            "\u001b[0;32m/usr/local/lib/python3.9/dist-packages/scipy/sparse/_base.py\u001b[0m in \u001b[0;36m__bool__\u001b[0;34m(self)\u001b[0m\n\u001b[1;32m    335\u001b[0m             \u001b[0;32mreturn\u001b[0m \u001b[0mself\u001b[0m\u001b[0;34m.\u001b[0m\u001b[0mnnz\u001b[0m \u001b[0;34m!=\u001b[0m \u001b[0;36m0\u001b[0m\u001b[0;34m\u001b[0m\u001b[0;34m\u001b[0m\u001b[0m\n\u001b[1;32m    336\u001b[0m         \u001b[0;32melse\u001b[0m\u001b[0;34m:\u001b[0m\u001b[0;34m\u001b[0m\u001b[0;34m\u001b[0m\u001b[0m\n\u001b[0;32m--> 337\u001b[0;31m             raise ValueError(\"The truth value of an array with more than one \"\n\u001b[0m\u001b[1;32m    338\u001b[0m                              \"element is ambiguous. Use a.any() or a.all().\")\n\u001b[1;32m    339\u001b[0m     \u001b[0m__nonzero__\u001b[0m \u001b[0;34m=\u001b[0m \u001b[0m__bool__\u001b[0m\u001b[0;34m\u001b[0m\u001b[0;34m\u001b[0m\u001b[0m\n",
            "\u001b[0;31mValueError\u001b[0m: The truth value of an array with more than one element is ambiguous. Use a.any() or a.all()."
          ]
        }
      ]
    }
  ]
}